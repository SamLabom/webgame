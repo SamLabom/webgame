{
  "cells": [
    {
      "cell_type": "code",
      "source": [
        "!test -e /usr/local/lib/*/dist-packages/google/colab && rm -rf files.zip data tests LabNotebook.ipynb\n",
        "!test -e /usr/local/lib/*/dist-packages/google/colab && wget https://wsu-courses.s3.amazonaws.com/fall2022/cais105/assignment6/files.zip > log.txt 2>&1\n",
        "!test -e /usr/local/lib/*/dist-packages/google/colab && unzip files.zip >> log.txt 2>&1\n",
        "!test -e /usr/local/lib/*/dist-packages/google/colab && pip install otter-grader >> log.txt 2>&1\n"
      ],
      "metadata": {
        "id": "x47FL7x7WlCJ"
      },
      "execution_count": 1,
      "outputs": []
    },
    {
      "cell_type": "code",
      "execution_count": 2,
      "metadata": {
        "deletable": false,
        "editable": false,
        "id": "A-kIQCbOWhLX"
      },
      "outputs": [],
      "source": [
        "# Initialize Otter\n",
        "import otter\n",
        "grader = otter.Notebook(\"LabNotebook.ipynb\")"
      ]
    },
    {
      "cell_type": "markdown",
      "metadata": {
        "id": "tOzpGinHWhLY"
      },
      "source": [
        "# Assignment 6: Visualizing Data\n",
        "\n",
        "In this assignment we will visualize data using `matplotlib` and `plotly` libraries, which are the visualization libraries that underlies the `datascience` library. Run the cell below to import the libraries needed for this assignment. Note that we are also specifying that we would like graphs to be drawn inline in the notebook."
      ]
    },
    {
      "cell_type": "code",
      "execution_count": 3,
      "metadata": {
        "id": "1iVJw8bGWhLZ"
      },
      "outputs": [],
      "source": [
        "import numpy as np\n",
        "from datascience import *\n",
        "from datascience.predicates import *\n",
        "from ipywidgets import interact, IntSlider\n",
        "\n",
        "import matplotlib.pyplot as plt\n",
        "plt.style.use(\"fivethirtyeight\")\n",
        "\n",
        "import warnings\n",
        "warnings.simplefilter('ignore')\n",
        "\n",
        "%matplotlib inline"
      ]
    },
    {
      "cell_type": "markdown",
      "metadata": {
        "id": "_yPDdK2PWhLZ"
      },
      "source": [
        "\n",
        "Many of the pictures and descriptions in this section of the homework are taken from [Dr. Allison Horst](https://twitter.com/allison_horst) and [Dr. Kristen Gorman](https://www.uaf.edu/cfos/people/faculty/detail/kristen-gorman.php). The data was collected as a part of the [Long Term Ecological Research Network](https://lternet.edu/). If you're curious about the origins of the data, see [here](https://allisonhorst.github.io/palmerpenguins/) for more details.\n",
        "\n",
        "## The Data\n",
        "\n",
        "In this part of your assignment, we will explore a dataset containing size measurements for three penguin species observed on three islands in the Palmer Archipelago, Antarctica. The data was collected by Dr. Kristen Gorman, a marine biologist from 2007 to 2009.\n",
        "\n",
        "Here's a photo of Dr. Gorman in the wild collecting the data:\n",
        "\n",
        "<img src='https://wsu-courses.s3.amazonaws.com/fall2022/cais105/assignment6/gorman1.png' width=500>\n",
        "\n",
        "Run the cell below to load in our data."
      ]
    },
    {
      "cell_type": "code",
      "execution_count": 4,
      "metadata": {
        "colab": {
          "base_uri": "https://localhost:8080/",
          "height": 392
        },
        "id": "kmf0FXMSWhLZ",
        "outputId": "fe9c31b1-1fd6-4ba7-e9e2-90cf0b34c51c"
      },
      "outputs": [
        {
          "output_type": "execute_result",
          "data": {
            "text/plain": [
              "species | island    | bill_length_mm | bill_depth_mm | flipper_length_mm | body_mass_g | sex\n",
              "Adelie  | Torgersen | 39.1           | 18.7          | 181               | 3750        | Male\n",
              "Adelie  | Torgersen | 39.5           | 17.4          | 186               | 3800        | Female\n",
              "Adelie  | Torgersen | 40.3           | 18            | 195               | 3250        | Female\n",
              "Adelie  | Torgersen | 36.7           | 19.3          | 193               | 3450        | Female\n",
              "Adelie  | Torgersen | 39.3           | 20.6          | 190               | 3650        | Male\n",
              "Adelie  | Torgersen | 38.9           | 17.8          | 181               | 3625        | Female\n",
              "Adelie  | Torgersen | 39.2           | 19.6          | 195               | 4675        | Male\n",
              "Adelie  | Torgersen | 41.1           | 17.6          | 182               | 3200        | Female\n",
              "Adelie  | Torgersen | 38.6           | 21.2          | 191               | 3800        | Male\n",
              "Adelie  | Torgersen | 34.6           | 21.1          | 198               | 4400        | Male\n",
              "... (323 rows omitted)"
            ],
            "text/html": [
              "<table border=\"1\" class=\"dataframe\">\n",
              "    <thead>\n",
              "        <tr>\n",
              "            <th>species</th> <th>island</th> <th>bill_length_mm</th> <th>bill_depth_mm</th> <th>flipper_length_mm</th> <th>body_mass_g</th> <th>sex</th>\n",
              "        </tr>\n",
              "    </thead>\n",
              "    <tbody>\n",
              "        <tr>\n",
              "            <td>Adelie </td> <td>Torgersen</td> <td>39.1          </td> <td>18.7         </td> <td>181              </td> <td>3750       </td> <td>Male  </td>\n",
              "        </tr>\n",
              "        <tr>\n",
              "            <td>Adelie </td> <td>Torgersen</td> <td>39.5          </td> <td>17.4         </td> <td>186              </td> <td>3800       </td> <td>Female</td>\n",
              "        </tr>\n",
              "        <tr>\n",
              "            <td>Adelie </td> <td>Torgersen</td> <td>40.3          </td> <td>18           </td> <td>195              </td> <td>3250       </td> <td>Female</td>\n",
              "        </tr>\n",
              "        <tr>\n",
              "            <td>Adelie </td> <td>Torgersen</td> <td>36.7          </td> <td>19.3         </td> <td>193              </td> <td>3450       </td> <td>Female</td>\n",
              "        </tr>\n",
              "        <tr>\n",
              "            <td>Adelie </td> <td>Torgersen</td> <td>39.3          </td> <td>20.6         </td> <td>190              </td> <td>3650       </td> <td>Male  </td>\n",
              "        </tr>\n",
              "        <tr>\n",
              "            <td>Adelie </td> <td>Torgersen</td> <td>38.9          </td> <td>17.8         </td> <td>181              </td> <td>3625       </td> <td>Female</td>\n",
              "        </tr>\n",
              "        <tr>\n",
              "            <td>Adelie </td> <td>Torgersen</td> <td>39.2          </td> <td>19.6         </td> <td>195              </td> <td>4675       </td> <td>Male  </td>\n",
              "        </tr>\n",
              "        <tr>\n",
              "            <td>Adelie </td> <td>Torgersen</td> <td>41.1          </td> <td>17.6         </td> <td>182              </td> <td>3200       </td> <td>Female</td>\n",
              "        </tr>\n",
              "        <tr>\n",
              "            <td>Adelie </td> <td>Torgersen</td> <td>38.6          </td> <td>21.2         </td> <td>191              </td> <td>3800       </td> <td>Male  </td>\n",
              "        </tr>\n",
              "        <tr>\n",
              "            <td>Adelie </td> <td>Torgersen</td> <td>34.6          </td> <td>21.1         </td> <td>198              </td> <td>4400       </td> <td>Male  </td>\n",
              "        </tr>\n",
              "    </tbody>\n",
              "</table>\n",
              "<p>... (323 rows omitted)</p>"
            ]
          },
          "metadata": {},
          "execution_count": 4
        }
      ],
      "source": [
        "# Run this cell!\n",
        "penguins = Table.read_table(\"data/penguins.csv\")\n",
        "penguins"
      ]
    },
    {
      "cell_type": "markdown",
      "metadata": {
        "id": "0-esMa8tWhLa"
      },
      "source": [
        "Let's make sure we understand what each of the columns in our data represents before proceeding.\n",
        "\n",
        "- **`\"species\"`** There are three species of penguin in our dataset: Adelie, Chinstrap, and Gentoo.\n",
        "\n",
        "  <img src='https://wsu-courses.s3.amazonaws.com/fall2022/cais105/assignment6/lter_penguins.png' width=300>\n",
        "\n",
        "- **`\"island\"`** The penguins in our dataset come from three islands: Biscoe, Dream, and Torgersen. An image of these islands can be found [here](https://journals.plos.org/plosone/article/figure?id=10.1371/journal.pone.0090081.g001).\n",
        "\n",
        "- **`\"bill_length_mm\"`** and **`\"bill_depth_mm\"`**: See the illustration below.\n",
        "  \n",
        "  <img src='https://wsu-courses.s3.amazonaws.com/fall2022/cais105/assignment6/culmen_depth.png' width=250>\n",
        "\n",
        "- **`\"flipper_length_mm\"`**: [Flippers](https://www.thespruce.com/flipper-definition-penguin-wings-385251) are the equivalent of wings on penguins. \n",
        "\n",
        "- **`\"body_mass_g\"`** The body mass of the penguin, in grams\n",
        "\n",
        "- **`\"sex\"`**: The sex of the penguin"
      ]
    },
    {
      "cell_type": "markdown",
      "metadata": {
        "id": "YvhAj4gsWhLb"
      },
      "source": [
        "## Question 1: The [barh](http://data8.org/datascience/_autosummary/datascience.tables.Table.barh.html#datascience.tables.Table.barh) method\n",
        "\n",
        "The `barh` (horizontal bar chart) method is used to visualize **categorical** variable values. Categorical variables are non-numbers, like names and qualities (Color, State Names, etc.). As we saw in lecture, categorical variables come in 2 different types: *ordinal* and *nominal*. Read [Chapter 7](https://inferentialthinking.com/chapters/07/Visualization.html) for further details on the difference between the two types.\n",
        "\n",
        "The `barh` method takes in 1 mandatory argument, which is the **name of the column** you want on the left (vertical) axis of your `barh` plot. There are also optional arguments that have to do with plotting -- you'll see examples of those in this lab and in the homework. The remaining optional arguments in the `datascience` documentation linked above can also be used, feel free to try out some of the others on your own!\n",
        "\n",
        "To use the `barh` method properly, we first need to select the columns we want to see in the graph. We should not call `barh` directly on a large `Table` because without specifying a column, we get a bar graph for every single instance of every single variable, which you can imagine results in a lot of bar graphs.\n"
      ]
    },
    {
      "cell_type": "markdown",
      "metadata": {
        "id": "FY2arx8qWhLb"
      },
      "source": [
        "**Question 1.1.** Let's start by visualizing the distribution of the islands from which the penguins in our dataset come. A bar chart is suitable for this visualization because the island data is categorical.\n",
        "\n",
        "First, create an `island_count` table that contains the number of penguins from each island (you can use the `group` method for this).\n",
        "\n",
        "<img src=\"https://wsu-courses.s3.amazonaws.com/fall2022/cais105/assignment6/examples/q1a-table.png\">\n",
        "\n",
        "Then create the bar graph, your graph should look similar to this: \n",
        "\n",
        "<img src=\"https://wsu-courses.s3.amazonaws.com/fall2022/cais105/assignment6/examples/q1a.png\">\n",
        "\n"
      ]
    },
    {
      "cell_type": "code",
      "execution_count": 5,
      "metadata": {
        "tags": [],
        "colab": {
          "base_uri": "https://localhost:8080/",
          "height": 143
        },
        "id": "G69YqORSWhLb",
        "outputId": "daf022a8-ad1c-430b-a737-338c9934e7de"
      },
      "outputs": [
        {
          "output_type": "execute_result",
          "data": {
            "text/plain": [
              "island    | count\n",
              "Biscoe    | 163\n",
              "Dream     | 123\n",
              "Torgersen | 47"
            ],
            "text/html": [
              "<table border=\"1\" class=\"dataframe\">\n",
              "    <thead>\n",
              "        <tr>\n",
              "            <th>island</th> <th>count</th>\n",
              "        </tr>\n",
              "    </thead>\n",
              "    <tbody>\n",
              "        <tr>\n",
              "            <td>Biscoe   </td> <td>163  </td>\n",
              "        </tr>\n",
              "        <tr>\n",
              "            <td>Dream    </td> <td>123  </td>\n",
              "        </tr>\n",
              "        <tr>\n",
              "            <td>Torgersen</td> <td>47   </td>\n",
              "        </tr>\n",
              "    </tbody>\n",
              "</table>"
            ]
          },
          "metadata": {},
          "execution_count": 5
        }
      ],
      "source": [
        "# create a table island_count that contains the count of the penguins on each island\n",
        "island_count = penguins.group(\"island\")\n",
        "island_count"
      ]
    },
    {
      "cell_type": "code",
      "execution_count": 6,
      "metadata": {
        "tags": [],
        "colab": {
          "base_uri": "https://localhost:8080/",
          "height": 281
        },
        "id": "dmCIptZhWhLb",
        "outputId": "0c89a0ce-00e2-4961-a847-e36aa1be4fad"
      },
      "outputs": [
        {
          "output_type": "display_data",
          "data": {
            "text/plain": [
              "<Figure size 432x288 with 1 Axes>"
            ],
            "image/png": "[encoded data removed]"
          },
          "metadata": {
            "needs_background": "light"
          }
        }
      ],
      "source": [
        "# Write the code to show a horizontal bar graph showing the number of penguins in each island.\n",
        "island_count.barh(\"island\", \"count\")"
      ]
    },
    {
      "cell_type": "code",
      "execution_count": 7,
      "metadata": {
        "deletable": false,
        "editable": false,
        "colab": {
          "base_uri": "https://localhost:8080/",
          "height": 46
        },
        "id": "SXFKfxSbWhLc",
        "outputId": "0c6b89ce-0e29-4ec6-f1d7-410fd4edf18d"
      },
      "outputs": [
        {
          "output_type": "execute_result",
          "data": {
            "text/plain": [
              "q1a results: All test cases passed!"
            ],
            "text/html": [
              "<p><strong><pre style='display: inline;'>q1a</pre></strong> passed! 🍀</p>"
            ]
          },
          "metadata": {},
          "execution_count": 7
        }
      ],
      "source": [
        "grader.check(\"q1a\")"
      ]
    },
    {
      "cell_type": "markdown",
      "metadata": {
        "id": "81VJ9U3OWhLc"
      },
      "source": [
        "**Question 1.2.**: Plot a horizontal bar chart that shows the number of penguins of each species. Similar to the previous question, you should first create a table that contains the number of penguins in each species.\n",
        "\n",
        "<img src=\"https://wsu-courses.s3.amazonaws.com/fall2022/cais105/assignment6/examples/q1b-table.png\">\n",
        "\n",
        "Your graph should look similar to this: \n",
        "\n",
        "<img src=\"https://wsu-courses.s3.amazonaws.com/fall2022/cais105/assignment6/examples/q1b.png\">"
      ]
    },
    {
      "cell_type": "code",
      "execution_count": 8,
      "metadata": {
        "tags": [],
        "colab": {
          "base_uri": "https://localhost:8080/",
          "height": 143
        },
        "id": "JoEy_rRJWhLc",
        "outputId": "91b16cc7-fc8b-454a-812f-fcfc12dc3d92"
      },
      "outputs": [
        {
          "output_type": "execute_result",
          "data": {
            "text/plain": [
              "species   | count\n",
              "Adelie    | 146\n",
              "Chinstrap | 68\n",
              "Gentoo    | 119"
            ],
            "text/html": [
              "<table border=\"1\" class=\"dataframe\">\n",
              "    <thead>\n",
              "        <tr>\n",
              "            <th>species</th> <th>count</th>\n",
              "        </tr>\n",
              "    </thead>\n",
              "    <tbody>\n",
              "        <tr>\n",
              "            <td>Adelie   </td> <td>146  </td>\n",
              "        </tr>\n",
              "        <tr>\n",
              "            <td>Chinstrap</td> <td>68   </td>\n",
              "        </tr>\n",
              "        <tr>\n",
              "            <td>Gentoo   </td> <td>119  </td>\n",
              "        </tr>\n",
              "    </tbody>\n",
              "</table>"
            ]
          },
          "metadata": {},
          "execution_count": 8
        }
      ],
      "source": [
        "# create a table species_count that contains the count of the penguins on each island\n",
        "species_count =  penguins.group(\"species\")\n",
        "species_count"
      ]
    },
    {
      "cell_type": "code",
      "execution_count": 9,
      "metadata": {
        "tags": [],
        "colab": {
          "base_uri": "https://localhost:8080/",
          "height": 281
        },
        "id": "vAtdUhvrWhLc",
        "outputId": "68f821d1-afad-4119-fff8-6f4fe4685d69"
      },
      "outputs": [
        {
          "output_type": "display_data",
          "data": {
            "text/plain": [
              "<Figure size 432x288 with 1 Axes>"
            ],
            "image/png": "[encoded data removed]"
          },
          "metadata": {
            "needs_background": "light"
          }
        }
      ],
      "source": [
        "# Write the code to create the horizontal bar graph for the species count\n",
        "species_count.barh(\"species\", \"count\")"
      ]
    },
    {
      "cell_type": "code",
      "execution_count": 10,
      "metadata": {
        "deletable": false,
        "editable": false,
        "colab": {
          "base_uri": "https://localhost:8080/",
          "height": 46
        },
        "id": "ZuRGZLx2WhLd",
        "outputId": "31b43b13-2fe1-4a66-e4c3-4e4c46e4ec2b"
      },
      "outputs": [
        {
          "output_type": "execute_result",
          "data": {
            "text/plain": [
              "q1b results: All test cases passed!"
            ],
            "text/html": [
              "<p><strong><pre style='display: inline;'>q1b</pre></strong> passed! 💯</p>"
            ]
          },
          "metadata": {},
          "execution_count": 10
        }
      ],
      "source": [
        "grader.check(\"q1b\")"
      ]
    },
    {
      "cell_type": "markdown",
      "metadata": {
        "id": "V_DUPc8QWhLd"
      },
      "source": [
        "**Question 1.3** You want to make it easier for the user to identify the species with the highest number of penguins. Create a bar graph where the bars start from the longest at the top and the shortest at the bottom. You can use the `sort` method to sort the table by the number of penguins. The sorted table should look like below:\n",
        "\n",
        "<img src=\"https://wsu-courses.s3.amazonaws.com/fall2022/cais105/assignment6/examples/q1c-table.png\">\n",
        "\n",
        "Your graph should look similar to this: \n",
        "\n",
        "<img src=\"https://wsu-courses.s3.amazonaws.com/fall2022/cais105/assignment6/examples/q1c.png\">"
      ]
    },
    {
      "cell_type": "code",
      "execution_count": 11,
      "metadata": {
        "tags": [],
        "colab": {
          "base_uri": "https://localhost:8080/",
          "height": 143
        },
        "id": "y-yV5pZbWhLd",
        "outputId": "ab8bdbef-47a7-4307-a191-2b2b2a417cea"
      },
      "outputs": [
        {
          "output_type": "execute_result",
          "data": {
            "text/plain": [
              "species   | count\n",
              "Adelie    | 146\n",
              "Gentoo    | 119\n",
              "Chinstrap | 68"
            ],
            "text/html": [
              "<table border=\"1\" class=\"dataframe\">\n",
              "    <thead>\n",
              "        <tr>\n",
              "            <th>species</th> <th>count</th>\n",
              "        </tr>\n",
              "    </thead>\n",
              "    <tbody>\n",
              "        <tr>\n",
              "            <td>Adelie   </td> <td>146  </td>\n",
              "        </tr>\n",
              "        <tr>\n",
              "            <td>Gentoo   </td> <td>119  </td>\n",
              "        </tr>\n",
              "        <tr>\n",
              "            <td>Chinstrap</td> <td>68   </td>\n",
              "        </tr>\n",
              "    </tbody>\n",
              "</table>"
            ]
          },
          "metadata": {},
          "execution_count": 11
        }
      ],
      "source": [
        "# create a sorted species count table\n",
        "sorted_species_count = species_count.sort(\"count\", descending=True)\n",
        "sorted_species_count"
      ]
    },
    {
      "cell_type": "code",
      "execution_count": 12,
      "metadata": {
        "tags": [],
        "colab": {
          "base_uri": "https://localhost:8080/",
          "height": 298
        },
        "id": "MSeeuPPiWhLd",
        "outputId": "96103235-6368-492f-fdd0-ebd7488d1cfb"
      },
      "outputs": [
        {
          "output_type": "execute_result",
          "data": {
            "text/plain": [
              "Text(0.5, 0, 'Number of Penguins')"
            ]
          },
          "metadata": {},
          "execution_count": 12
        },
        {
          "output_type": "display_data",
          "data": {
            "text/plain": [
              "<Figure size 432x288 with 1 Axes>"
            ],
            "image/png": "[encoded data removed]"
          },
          "metadata": {
            "needs_background": "light"
          }
        }
      ],
      "source": [
        "# Write the code to create a horizontal bar graph for the sorted count\n",
        "sorted_species_count.barh(\"species\", \"count\")\n",
        "\n",
        "# customize the x-axis label\n",
        "plt.xlabel(\"Number of Penguins\")"
      ]
    },
    {
      "cell_type": "code",
      "execution_count": 13,
      "metadata": {
        "deletable": false,
        "editable": false,
        "colab": {
          "base_uri": "https://localhost:8080/",
          "height": 46
        },
        "id": "XOrnaoAmWhLd",
        "outputId": "adc24e63-2ba5-4d43-962f-4be567234a89"
      },
      "outputs": [
        {
          "output_type": "execute_result",
          "data": {
            "text/plain": [
              "q1c results: All test cases passed!"
            ],
            "text/html": [
              "<p><strong><pre style='display: inline;'>q1c</pre></strong> passed! 🌈</p>"
            ]
          },
          "metadata": {},
          "execution_count": 13
        }
      ],
      "source": [
        "grader.check(\"q1c\")"
      ]
    },
    {
      "cell_type": "markdown",
      "metadata": {
        "id": "nXistry3WhLe"
      },
      "source": [
        "**Question 1.4**: You also would like to customize the graph. Change the label of the x-axis to \"Number of Penguins\". Change the label of the y-axis to \"Species\". Change the title of the graph to \"Number of Penguins by Species\". Use the methods from pyplot to change the title, x-axis label, and y-axis label. \n",
        "\n",
        "For example, to change the x-axis label, you can use `plt.xlabel(\"Number of Penguins\")`.\n",
        "\n",
        "Your graph should look similar to this: \n",
        "\n",
        "<img src=\"https://wsu-courses.s3.amazonaws.com/fall2022/cais105/assignment6/examples/q1d.png\">"
      ]
    },
    {
      "cell_type": "code",
      "execution_count": 14,
      "metadata": {
        "tags": [],
        "colab": {
          "base_uri": "https://localhost:8080/",
          "height": 315
        },
        "id": "8DmZrnqZWhLe",
        "outputId": "5bdde130-7788-4c85-a7ad-db3a788284e8"
      },
      "outputs": [
        {
          "output_type": "execute_result",
          "data": {
            "text/plain": [
              "Text(0.5, 1.0, 'Number of Penguin by Species')"
            ]
          },
          "metadata": {},
          "execution_count": 14
        },
        {
          "output_type": "display_data",
          "data": {
            "text/plain": [
              "<Figure size 432x288 with 1 Axes>"
            ],
            "image/png": "[encoded data removed]"
          },
          "metadata": {
            "needs_background": "light"
          }
        }
      ],
      "source": [
        "# add the xlabel, ylabel, and title to the plot from the previous question\n",
        "sorted_species_count.barh(\"species\", \"count\")\n",
        "\n",
        "# customize the x-axis label\n",
        "plt.xlabel(\"Number of Penguins\")\n",
        "plt.ylabel(\"Species\")\n",
        "plt.title(\"Number of Penguin by Species\")"
      ]
    },
    {
      "cell_type": "markdown",
      "metadata": {
        "id": "3qk_ww-rWhLe"
      },
      "source": [
        "### Multiple Columns \n",
        "\n",
        "We can also use `barh` to see multiple statistics at once. Let's use the `barh` method to see the number of male and female penguins in each island. To visualize this, it is useful to draw them side-by-side so that we can compare the numbers easily. For this we will use overlay plots discussed in [section 7.3](https://inferentialthinking.com/chapters/07/3/Overlaid_Graphs.html).\n",
        "\n",
        "**Question 1.5.**: Plot a horizontal bar chart that shows the number male and female penguins in each island. Hint: You can use the `pivot` method to get these numbers first (this table looks like the one below), then use `barh`.\n",
        "\n",
        "Pivoted table:\n",
        "\n",
        "<img src=\"https://wsu-courses.s3.amazonaws.com/fall2022/cais105/assignment6/examples/mf_per_island.png\">\n",
        "\n",
        "Your graph should look similar to this: \n",
        "\n",
        "<img src=\"https://wsu-courses.s3.amazonaws.com/fall2022/cais105/assignment6/examples/q1e.png\">\n"
      ]
    },
    {
      "cell_type": "code",
      "execution_count": 15,
      "metadata": {
        "tags": [],
        "colab": {
          "base_uri": "https://localhost:8080/",
          "height": 143
        },
        "id": "aDZ9vYH1WhLe",
        "outputId": "2943d4c0-d2f2-43f3-dcf3-a48e6a1c5765"
      },
      "outputs": [
        {
          "output_type": "execute_result",
          "data": {
            "text/plain": [
              "island    | Female | Male\n",
              "Biscoe    | 80     | 83\n",
              "Dream     | 61     | 62\n",
              "Torgersen | 24     | 23"
            ],
            "text/html": [
              "<table border=\"1\" class=\"dataframe\">\n",
              "    <thead>\n",
              "        <tr>\n",
              "            <th>island</th> <th>Female</th> <th>Male</th>\n",
              "        </tr>\n",
              "    </thead>\n",
              "    <tbody>\n",
              "        <tr>\n",
              "            <td>Biscoe   </td> <td>80    </td> <td>83  </td>\n",
              "        </tr>\n",
              "        <tr>\n",
              "            <td>Dream    </td> <td>61    </td> <td>62  </td>\n",
              "        </tr>\n",
              "        <tr>\n",
              "            <td>Torgersen</td> <td>24    </td> <td>23  </td>\n",
              "        </tr>\n",
              "    </tbody>\n",
              "</table>"
            ]
          },
          "metadata": {},
          "execution_count": 15
        }
      ],
      "source": [
        "# use pivot to create the mf_per_island table shown in the screenshot above\n",
        "mf_per_island = penguins.groups([\"island\", \"sex\"])\n",
        "mf_per_island = mf_per_island.pivot(\"sex\", \"island\", \"count\", np.sum)\n",
        "mf_per_island"
      ]
    },
    {
      "cell_type": "code",
      "execution_count": 16,
      "metadata": {
        "tags": [],
        "colab": {
          "base_uri": "https://localhost:8080/",
          "height": 262
        },
        "id": "VfbzluNpWhLf",
        "outputId": "47a7a0cf-7107-448c-d2fd-ad45b1b1470d"
      },
      "outputs": [
        {
          "output_type": "display_data",
          "data": {
            "text/plain": [
              "<Figure size 432x288 with 1 Axes>"
            ],
            "image/png": "[encoded data removed]"
          },
          "metadata": {
            "needs_background": "light"
          }
        }
      ],
      "source": [
        "# use the mf_per_island table to create the horizontal bar graph\n",
        "mf_per_island.barh(\"island\", [\"Male\", \"Female\"], overlay=True)"
      ]
    },
    {
      "cell_type": "code",
      "execution_count": 17,
      "metadata": {
        "deletable": false,
        "editable": false,
        "colab": {
          "base_uri": "https://localhost:8080/",
          "height": 70
        },
        "id": "LMzWcY0DWhLf",
        "outputId": "75646c97-491e-4f62-bc2a-c2797ab13c7f"
      },
      "outputs": [
        {
          "output_type": "execute_result",
          "data": {
            "text/plain": [
              "q1e results: All test cases passed!\n",
              "q1e - 1 message: Good job!"
            ],
            "text/html": [
              "<p><strong><pre style='display: inline;'>q1e</pre></strong> passed! 🎉</p><p><strong><pre style='display: inline;'>q1e - 1</pre> message:</strong> Good job!</p>"
            ]
          },
          "metadata": {},
          "execution_count": 17
        }
      ],
      "source": [
        "grader.check(\"q1e\")"
      ]
    },
    {
      "cell_type": "markdown",
      "metadata": {
        "id": "MTjdSG-5WhLf"
      },
      "source": [
        "If you set the optional `overlay` argument to `False`, a separate graph will be created for each of set of data. The default value of `overlay` is `True`, so if you don't give it a value, you will get a plot with all the included variables at once.\n",
        "\n",
        "In this case, what additional information do we get from an overlaid plot vs two separate plots? Can you think of a case where we might want to have two separate plots instead of one overlaid plot? (Hint: think about the units for both variables — are they the same or different?)"
      ]
    },
    {
      "cell_type": "markdown",
      "metadata": {
        "id": "No0Ai6kQWhLf"
      },
      "source": [
        "### Interactive Visualizations\n",
        "\n",
        "If you are working with an interactive notebook, you can use the interactive visualizations instead. The visualizations of the Table class can be made interactive by calling the following method:\n",
        "\n",
        "```{python}\n",
        "Table.interactive_plots()\n",
        "```\n",
        "\n",
        "The visualization will use the interactive `plotly` library instead so that you can interact with them by hovering over or clicking on the bars."
      ]
    },
    {
      "cell_type": "code",
      "execution_count": 18,
      "metadata": {
        "colab": {
          "base_uri": "https://localhost:8080/",
          "height": 517
        },
        "id": "wQRqM7sJWhLf",
        "outputId": "1a33f419-96af-4793-88a3-0aa2af814bc5"
      },
      "outputs": [
        {
          "output_type": "display_data",
          "data": {
            "text/html": [
              "<html>\n",
              "<head><meta charset=\"utf-8\" /></head>\n",
              "<body>\n",
              "    <div>            <script src=\"https://cdnjs.cloudflare.com/ajax/libs/mathjax/2.7.5/MathJax.js?config=TeX-AMS-MML_SVG\"></script><script type=\"text/javascript\">if (window.MathJax) {MathJax.Hub.Config({SVG: {font: \"STIX-Web\"}});}</script>                <script type=\"text/javascript\">window.PlotlyConfig = {MathJaxConfig: 'local'};</script>\n",
              "        <script src=\"https://cdn.plot.ly/plotly-2.8.3.min.js\"></script>                <div id=\"9193ac05-4e7c-4257-8403-fdc5543e0c84\" class=\"plotly-graph-div\" style=\"height:500px; width:800px;\"></div>            <script type=\"text/javascript\">                                    window.PLOTLYENV=window.PLOTLYENV || {};                                    if (document.getElementById(\"9193ac05-4e7c-4257-8403-fdc5543e0c84\")) {                    Plotly.newPlot(                        \"9193ac05-4e7c-4257-8403-fdc5543e0c84\",                        [{\"customdata\":[\"Torgersen\",\"Dream\",\"Biscoe\"],\"hovertemplate\":\"(%{x}, %{customdata})\",\"marker\":{\"color\":\"rgb(0,30,66)\"},\"name\":\"Adelie\",\"opacity\":0.7,\"orientation\":\"h\",\"x\":[47,55,44],\"y\":[\"Torgersen  \",\"Dream  \",\"Biscoe  \"],\"type\":\"bar\"},{\"customdata\":[\"Torgersen\",\"Dream\",\"Biscoe\"],\"hovertemplate\":\"(%{x}, %{customdata})\",\"marker\":{\"color\":\"rgb(256,200,44)\"},\"name\":\"Chinstrap\",\"opacity\":0.7,\"orientation\":\"h\",\"x\":[0,68,0],\"y\":[\"Torgersen  \",\"Dream  \",\"Biscoe  \"],\"type\":\"bar\"},{\"customdata\":[\"Torgersen\",\"Dream\",\"Biscoe\"],\"hovertemplate\":\"(%{x}, %{customdata})\",\"marker\":{\"color\":\"rgb(0,150,207)\"},\"name\":\"Gentoo\",\"opacity\":0.7,\"orientation\":\"h\",\"x\":[0,0,119],\"y\":[\"Torgersen  \",\"Dream  \",\"Biscoe  \"],\"type\":\"bar\"}],                        {\"template\":{\"data\":{\"bar\":[{\"error_x\":{\"color\":\"#2a3f5f\"},\"error_y\":{\"color\":\"#2a3f5f\"},\"marker\":{\"line\":{\"color\":\"#E5ECF6\",\"width\":0.5},\"pattern\":{\"fillmode\":\"overlay\",\"size\":10,\"solidity\":0.2}},\"type\":\"bar\"}],\"barpolar\":[{\"marker\":{\"line\":{\"color\":\"#E5ECF6\",\"width\":0.5},\"pattern\":{\"fillmode\":\"overlay\",\"size\":10,\"solidity\":0.2}},\"type\":\"barpolar\"}],\"carpet\":[{\"aaxis\":{\"endlinecolor\":\"#2a3f5f\",\"gridcolor\":\"white\",\"linecolor\":\"white\",\"minorgridcolor\":\"white\",\"startlinecolor\":\"#2a3f5f\"},\"baxis\":{\"endlinecolor\":\"#2a3f5f\",\"gridcolor\":\"white\",\"linecolor\":\"white\",\"minorgridcolor\":\"white\",\"startlinecolor\":\"#2a3f5f\"},\"type\":\"carpet\"}],\"choropleth\":[{\"colorbar\":{\"outlinewidth\":0,\"ticks\":\"\"},\"type\":\"choropleth\"}],\"contour\":[{\"colorbar\":{\"outlinewidth\":0,\"ticks\":\"\"},\"colorscale\":[[0.0,\"#0d0887\"],[0.1111111111111111,\"#46039f\"],[0.2222222222222222,\"#7201a8\"],[0.3333333333333333,\"#9c179e\"],[0.4444444444444444,\"#bd3786\"],[0.5555555555555556,\"#d8576b\"],[0.6666666666666666,\"#ed7953\"],[0.7777777777777778,\"#fb9f3a\"],[0.8888888888888888,\"#fdca26\"],[1.0,\"#f0f921\"]],\"type\":\"contour\"}],\"contourcarpet\":[{\"colorbar\":{\"outlinewidth\":0,\"ticks\":\"\"},\"type\":\"contourcarpet\"}],\"heatmap\":[{\"colorbar\":{\"outlinewidth\":0,\"ticks\":\"\"},\"colorscale\":[[0.0,\"#0d0887\"],[0.1111111111111111,\"#46039f\"],[0.2222222222222222,\"#7201a8\"],[0.3333333333333333,\"#9c179e\"],[0.4444444444444444,\"#bd3786\"],[0.5555555555555556,\"#d8576b\"],[0.6666666666666666,\"#ed7953\"],[0.7777777777777778,\"#fb9f3a\"],[0.8888888888888888,\"#fdca26\"],[1.0,\"#f0f921\"]],\"type\":\"heatmap\"}],\"heatmapgl\":[{\"colorbar\":{\"outlinewidth\":0,\"ticks\":\"\"},\"colorscale\":[[0.0,\"#0d0887\"],[0.1111111111111111,\"#46039f\"],[0.2222222222222222,\"#7201a8\"],[0.3333333333333333,\"#9c179e\"],[0.4444444444444444,\"#bd3786\"],[0.5555555555555556,\"#d8576b\"],[0.6666666666666666,\"#ed7953\"],[0.7777777777777778,\"#fb9f3a\"],[0.8888888888888888,\"#fdca26\"],[1.0,\"#f0f921\"]],\"type\":\"heatmapgl\"}],\"histogram\":[{\"marker\":{\"pattern\":{\"fillmode\":\"overlay\",\"size\":10,\"solidity\":0.2}},\"type\":\"histogram\"}],\"histogram2d\":[{\"colorbar\":{\"outlinewidth\":0,\"ticks\":\"\"},\"colorscale\":[[0.0,\"#0d0887\"],[0.1111111111111111,\"#46039f\"],[0.2222222222222222,\"#7201a8\"],[0.3333333333333333,\"#9c179e\"],[0.4444444444444444,\"#bd3786\"],[0.5555555555555556,\"#d8576b\"],[0.6666666666666666,\"#ed7953\"],[0.7777777777777778,\"#fb9f3a\"],[0.8888888888888888,\"#fdca26\"],[1.0,\"#f0f921\"]],\"type\":\"histogram2d\"}],\"histogram2dcontour\":[{\"colorbar\":{\"outlinewidth\":0,\"ticks\":\"\"},\"colorscale\":[[0.0,\"#0d0887\"],[0.1111111111111111,\"#46039f\"],[0.2222222222222222,\"#7201a8\"],[0.3333333333333333,\"#9c179e\"],[0.4444444444444444,\"#bd3786\"],[0.5555555555555556,\"#d8576b\"],[0.6666666666666666,\"#ed7953\"],[0.7777777777777778,\"#fb9f3a\"],[0.8888888888888888,\"#fdca26\"],[1.0,\"#f0f921\"]],\"type\":\"histogram2dcontour\"}],\"mesh3d\":[{\"colorbar\":{\"outlinewidth\":0,\"ticks\":\"\"},\"type\":\"mesh3d\"}],\"parcoords\":[{\"line\":{\"colorbar\":{\"outlinewidth\":0,\"ticks\":\"\"}},\"type\":\"parcoords\"}],\"pie\":[{\"automargin\":true,\"type\":\"pie\"}],\"scatter\":[{\"marker\":{\"colorbar\":{\"outlinewidth\":0,\"ticks\":\"\"}},\"type\":\"scatter\"}],\"scatter3d\":[{\"line\":{\"colorbar\":{\"outlinewidth\":0,\"ticks\":\"\"}},\"marker\":{\"colorbar\":{\"outlinewidth\":0,\"ticks\":\"\"}},\"type\":\"scatter3d\"}],\"scattercarpet\":[{\"marker\":{\"colorbar\":{\"outlinewidth\":0,\"ticks\":\"\"}},\"type\":\"scattercarpet\"}],\"scattergeo\":[{\"marker\":{\"colorbar\":{\"outlinewidth\":0,\"ticks\":\"\"}},\"type\":\"scattergeo\"}],\"scattergl\":[{\"marker\":{\"colorbar\":{\"outlinewidth\":0,\"ticks\":\"\"}},\"type\":\"scattergl\"}],\"scattermapbox\":[{\"marker\":{\"colorbar\":{\"outlinewidth\":0,\"ticks\":\"\"}},\"type\":\"scattermapbox\"}],\"scatterpolar\":[{\"marker\":{\"colorbar\":{\"outlinewidth\":0,\"ticks\":\"\"}},\"type\":\"scatterpolar\"}],\"scatterpolargl\":[{\"marker\":{\"colorbar\":{\"outlinewidth\":0,\"ticks\":\"\"}},\"type\":\"scatterpolargl\"}],\"scatterternary\":[{\"marker\":{\"colorbar\":{\"outlinewidth\":0,\"ticks\":\"\"}},\"type\":\"scatterternary\"}],\"surface\":[{\"colorbar\":{\"outlinewidth\":0,\"ticks\":\"\"},\"colorscale\":[[0.0,\"#0d0887\"],[0.1111111111111111,\"#46039f\"],[0.2222222222222222,\"#7201a8\"],[0.3333333333333333,\"#9c179e\"],[0.4444444444444444,\"#bd3786\"],[0.5555555555555556,\"#d8576b\"],[0.6666666666666666,\"#ed7953\"],[0.7777777777777778,\"#fb9f3a\"],[0.8888888888888888,\"#fdca26\"],[1.0,\"#f0f921\"]],\"type\":\"surface\"}],\"table\":[{\"cells\":{\"fill\":{\"color\":\"#EBF0F8\"},\"line\":{\"color\":\"white\"}},\"header\":{\"fill\":{\"color\":\"#C8D4E3\"},\"line\":{\"color\":\"white\"}},\"type\":\"table\"}]},\"layout\":{\"annotationdefaults\":{\"arrowcolor\":\"#2a3f5f\",\"arrowhead\":0,\"arrowwidth\":1},\"autotypenumbers\":\"strict\",\"coloraxis\":{\"colorbar\":{\"outlinewidth\":0,\"ticks\":\"\"}},\"colorscale\":{\"diverging\":[[0,\"#8e0152\"],[0.1,\"#c51b7d\"],[0.2,\"#de77ae\"],[0.3,\"#f1b6da\"],[0.4,\"#fde0ef\"],[0.5,\"#f7f7f7\"],[0.6,\"#e6f5d0\"],[0.7,\"#b8e186\"],[0.8,\"#7fbc41\"],[0.9,\"#4d9221\"],[1,\"#276419\"]],\"sequential\":[[0.0,\"#0d0887\"],[0.1111111111111111,\"#46039f\"],[0.2222222222222222,\"#7201a8\"],[0.3333333333333333,\"#9c179e\"],[0.4444444444444444,\"#bd3786\"],[0.5555555555555556,\"#d8576b\"],[0.6666666666666666,\"#ed7953\"],[0.7777777777777778,\"#fb9f3a\"],[0.8888888888888888,\"#fdca26\"],[1.0,\"#f0f921\"]],\"sequentialminus\":[[0.0,\"#0d0887\"],[0.1111111111111111,\"#46039f\"],[0.2222222222222222,\"#7201a8\"],[0.3333333333333333,\"#9c179e\"],[0.4444444444444444,\"#bd3786\"],[0.5555555555555556,\"#d8576b\"],[0.6666666666666666,\"#ed7953\"],[0.7777777777777778,\"#fb9f3a\"],[0.8888888888888888,\"#fdca26\"],[1.0,\"#f0f921\"]]},\"colorway\":[\"#636efa\",\"#EF553B\",\"#00cc96\",\"#ab63fa\",\"#FFA15A\",\"#19d3f3\",\"#FF6692\",\"#B6E880\",\"#FF97FF\",\"#FECB52\"],\"font\":{\"color\":\"#2a3f5f\"},\"geo\":{\"bgcolor\":\"white\",\"lakecolor\":\"white\",\"landcolor\":\"#E5ECF6\",\"showlakes\":true,\"showland\":true,\"subunitcolor\":\"white\"},\"hoverlabel\":{\"align\":\"left\"},\"hovermode\":\"closest\",\"mapbox\":{\"style\":\"light\"},\"paper_bgcolor\":\"white\",\"plot_bgcolor\":\"#E5ECF6\",\"polar\":{\"angularaxis\":{\"gridcolor\":\"white\",\"linecolor\":\"white\",\"ticks\":\"\"},\"bgcolor\":\"#E5ECF6\",\"radialaxis\":{\"gridcolor\":\"white\",\"linecolor\":\"white\",\"ticks\":\"\"}},\"scene\":{\"xaxis\":{\"backgroundcolor\":\"#E5ECF6\",\"gridcolor\":\"white\",\"gridwidth\":2,\"linecolor\":\"white\",\"showbackground\":true,\"ticks\":\"\",\"zerolinecolor\":\"white\"},\"yaxis\":{\"backgroundcolor\":\"#E5ECF6\",\"gridcolor\":\"white\",\"gridwidth\":2,\"linecolor\":\"white\",\"showbackground\":true,\"ticks\":\"\",\"zerolinecolor\":\"white\"},\"zaxis\":{\"backgroundcolor\":\"#E5ECF6\",\"gridcolor\":\"white\",\"gridwidth\":2,\"linecolor\":\"white\",\"showbackground\":true,\"ticks\":\"\",\"zerolinecolor\":\"white\"}},\"shapedefaults\":{\"line\":{\"color\":\"#2a3f5f\"}},\"ternary\":{\"aaxis\":{\"gridcolor\":\"white\",\"linecolor\":\"white\",\"ticks\":\"\"},\"baxis\":{\"gridcolor\":\"white\",\"linecolor\":\"white\",\"ticks\":\"\"},\"bgcolor\":\"#E5ECF6\",\"caxis\":{\"gridcolor\":\"white\",\"linecolor\":\"white\",\"ticks\":\"\"}},\"title\":{\"x\":0.05},\"xaxis\":{\"automargin\":true,\"gridcolor\":\"white\",\"linecolor\":\"white\",\"ticks\":\"\",\"title\":{\"standoff\":15},\"zerolinecolor\":\"white\",\"zerolinewidth\":2},\"yaxis\":{\"automargin\":true,\"gridcolor\":\"white\",\"linecolor\":\"white\",\"ticks\":\"\",\"title\":{\"standoff\":15},\"zerolinecolor\":\"white\",\"zerolinewidth\":2}}},\"width\":800,\"height\":500,\"yaxis\":{\"title\":{\"text\":\"island\"},\"type\":\"category\",\"dtick\":1,\"showticklabels\":true}},                        {\"responsive\": true}                    ).then(function(){\n",
              "                            \n",
              "var gd = document.getElementById('9193ac05-4e7c-4257-8403-fdc5543e0c84');\n",
              "var x = new MutationObserver(function (mutations, observer) {{\n",
              "        var display = window.getComputedStyle(gd).display;\n",
              "        if (!display || display === 'none') {{\n",
              "            console.log([gd, 'removed!']);\n",
              "            Plotly.purge(gd);\n",
              "            observer.disconnect();\n",
              "        }}\n",
              "}});\n",
              "\n",
              "// Listen for the removal of the full notebook cells\n",
              "var notebookContainer = gd.closest('#notebook-container');\n",
              "if (notebookContainer) {{\n",
              "    x.observe(notebookContainer, {childList: true});\n",
              "}}\n",
              "\n",
              "// Listen for the clearing of the current output cell\n",
              "var outputEl = gd.closest('.output');\n",
              "if (outputEl) {{\n",
              "    x.observe(outputEl, {childList: true});\n",
              "}}\n",
              "\n",
              "                        })                };                            </script>        </div>\n",
              "</body>\n",
              "</html>"
            ]
          },
          "metadata": {}
        }
      ],
      "source": [
        "# example interactive plot\n",
        "Table.interactive_plots()\n",
        "penguins.groups([\"island\", \"species\"]).pivot(\"species\", \"island\", \"count\", np.sum).barh(\"island\", np.unique(penguins[\"species\"]), width=800)"
      ]
    },
    {
      "cell_type": "code",
      "execution_count": 20,
      "metadata": {
        "id": "US_U6yyfWhLg"
      },
      "outputs": [],
      "source": [
        "# Just run this cell to return to static visualization\n",
        "Table.static_plots()"
      ]
    },
    {
      "cell_type": "markdown",
      "metadata": {
        "id": "u8VLpqgxWhLg"
      },
      "source": [
        "## Question 2: The [hist](http://data8.org/datascience/_autosummary/datascience.tables.Table.hist.html#datascience.tables.Table.hist) method\n",
        "\n",
        "Great! Now that we've explored the distributions of some of the categorical variables in our dataset (species and island), it's time to study the distributions of some of the numerical variables. As covered in [Section 7.2 of the textbook](https://inferentialthinking.com/chapters/07/2/Visualizing_Numerical_Distributions.html), we can visualize a numerical distribution by creating a histogram using the `hist` method.\n",
        "\n",
        "The `hist` method takes in 1 mandatory argument and has several optional arguments (as is the case with `barh`, there are many other optional arguments, but here are just a few of them). \n",
        "\n",
        "| **Argument** | **Description** | **Type** | **Mandatory?** |\n",
        "| -- | -- | -- | -- |\n",
        "| `column` | Column name whose values you want on the x-axis of your plot | Column name (string) | Yes |\n",
        "| `density` | If `True`, then the resulting plot will be displayed not on the count of a value, but on the density of that value in the Table | boolean | No |\n",
        "| `group` | Similar to the Table method `group`, groups rows by this label before plotting | Column name (string) | No |\n",
        "| `overlay` | When `False`, make a new plot for each eligible statistic in the Table | boolean | No |\n",
        "| `bins` | A NumPy array of bin boundaries you want your histogram to gather data into | array | No |\n",
        "| `unit` |  A name for the units of the plotted column | Column name (string) | No |\n",
        "\n",
        "Let's take a look at the distribution of exercise sessions in different states to see how the `hist` method helps visualize numerical variables."
      ]
    },
    {
      "cell_type": "markdown",
      "metadata": {
        "id": "cArjS-b-WhLg"
      },
      "source": [
        "**Question 2.1** Create a histogram that shows the **distribution of penguin body mass (in grams)** for all the penguins in the `penguins` table. Use the bins provided below. Set `density` to `False` so that the histogram is showing the counts instead of the density.\n",
        "\n",
        "Your graph should look similar to this: \n",
        "\n",
        "<img src=\"https://wsu-courses.s3.amazonaws.com/fall2022/cais105/assignment6/examples/q2a.png\">\n"
      ]
    },
    {
      "cell_type": "code",
      "execution_count": 23,
      "metadata": {
        "tags": [],
        "colab": {
          "base_uri": "https://localhost:8080/",
          "height": 282
        },
        "id": "-W-_Tt2DWhLg",
        "outputId": "a27324ab-2111-4e44-a69d-d637306d6552"
      },
      "outputs": [
        {
          "output_type": "display_data",
          "data": {
            "text/plain": [
              "<Figure size 432x288 with 1 Axes>"
            ],
            "image/png": "[encoded data removed]"
          },
          "metadata": {
            "needs_background": "light"
          }
        }
      ],
      "source": [
        "# setup bins of 500g each starting from 2000g, ending at 7000g\n",
        "wt_bins = np.arange(2000,7001, 500) \n",
        "\n",
        "# Write the code that uses the bins to create a histogram\n",
        "penguins.hist(\"body_mass_g\", bins=wt_bins, density=False)"
      ]
    },
    {
      "cell_type": "markdown",
      "metadata": {
        "id": "eQifKHNQWhLg"
      },
      "source": [
        "**Question 2.2.** Based on the information presented in the above histogram, assign `num_penguins` to the **number of penguins** that have a body mass **between 3000 grams (*inclusive*) and 3500 grams (*exclusive*)**.\n",
        "\n",
        "*Note*: Remember, in a histogram, each bin is inclusive of the left endpoint and exclusive of the right endpoint. What this means is that, for example, the bin between 2500 and 3000 grams above corresponds to body masses that are greater than or equal to 2500 grams and less than 3000 grams."
      ]
    },
    {
      "cell_type": "code",
      "execution_count": 21,
      "metadata": {
        "tags": [],
        "colab": {
          "base_uri": "https://localhost:8080/"
        },
        "id": "cvpZCBWzWhLg",
        "outputId": "e8b29010-42e5-456a-b38c-72218023c7bd"
      },
      "outputs": [
        {
          "output_type": "execute_result",
          "data": {
            "text/plain": [
              "60"
            ]
          },
          "metadata": {},
          "execution_count": 21
        }
      ],
      "source": [
        "num_penguins = 60\n",
        "num_penguins"
      ]
    },
    {
      "cell_type": "code",
      "execution_count": 22,
      "metadata": {
        "deletable": false,
        "editable": false,
        "colab": {
          "base_uri": "https://localhost:8080/",
          "height": 46
        },
        "id": "xt87KrNMWhLh",
        "outputId": "5e8aaeb9-6376-41a5-c2aa-841b77a8c670"
      },
      "outputs": [
        {
          "output_type": "execute_result",
          "data": {
            "text/plain": [
              "q1b results: All test cases passed!"
            ],
            "text/html": [
              "<p><strong><pre style='display: inline;'>q1b</pre></strong> passed! 🍀</p>"
            ]
          },
          "metadata": {},
          "execution_count": 22
        }
      ],
      "source": [
        "grader.check(\"q1b\")"
      ]
    },
    {
      "cell_type": "markdown",
      "metadata": {
        "id": "wTam45muWhLh"
      },
      "source": [
        "**Question 2.3.**: In the cell below, write code that produces a histogram that visualizes the distribution of our penguins' flipper lengths. \n",
        "\n",
        "Your graph should look similar to this: \n",
        "\n",
        "<img src=\"https://wsu-courses.s3.amazonaws.com/fall2022/cais105/assignment6/examples/q2c.png\">"
      ]
    },
    {
      "cell_type": "code",
      "execution_count": 24,
      "metadata": {
        "tags": [],
        "colab": {
          "base_uri": "https://localhost:8080/",
          "height": 282
        },
        "id": "NrA4Wr5mWhLh",
        "outputId": "fe56547b-fa79-4188-eae2-df5d23e907ea"
      },
      "outputs": [
        {
          "output_type": "display_data",
          "data": {
            "text/plain": [
              "<Figure size 432x288 with 1 Axes>"
            ],
            "image/png": "[encoded data removed]"
          },
          "metadata": {
            "needs_background": "light"
          }
        }
      ],
      "source": [
        "# create the bins\n",
        "my_bins = np.arange(170, 241, 5)\n",
        "\n",
        "# write the code that uses the bins to create a histogram\n",
        "penguins.hist(\"flipper_length_mm\", bins=my_bins, density=False)"
      ]
    },
    {
      "cell_type": "markdown",
      "metadata": {
        "id": "tYkDJUrGWhLh"
      },
      "source": [
        "When creating histograms, it's important to try several different bin sizes in order to make sure that we're satisfied with the level of detail (or lack thereof) in our histogram.\n",
        "\n",
        "Run the code cell below. It will present you with a histogram of the distribution of our penguins' body masses, along with a slider for bin widths. Use the slider to try several different bin widths and look at the resulting histograms."
      ]
    },
    {
      "cell_type": "code",
      "execution_count": 25,
      "metadata": {
        "colab": {
          "base_uri": "https://localhost:8080/",
          "height": 314,
          "referenced_widgets": [
            "b72a88de857d400b9f929d01b4e06f85",
            "748141eaa5e14d51a23a11ea14639c56",
            "13887857edd84ba48e662fa7aa9acbf2",
            "c913d5fbc8ea4637a7f5bb65c0c4b9bb",
            "88c78f9028894d2a922fe2fb25f51e14",
            "b9cd3fbddb49426ba61b204ff956fba3",
            "f89eb09b275d4341a091ed6805a53905"
          ]
        },
        "id": "m-x4GYg5WhLh",
        "outputId": "c790859a-99b6-432f-af13-c1b77621ff61"
      },
      "outputs": [
        {
          "output_type": "display_data",
          "data": {
            "text/plain": [
              "interactive(children=(IntSlider(value=25, continuous_update=False, description='bin_width', max=2000, min=25, …"
            ],
            "application/vnd.jupyter.widget-view+json": {
              "version_major": 2,
              "version_minor": 0,
              "model_id": "b72a88de857d400b9f929d01b4e06f85"
            }
          },
          "metadata": {}
        }
      ],
      "source": [
        "# Don't worry about the code, just play with the slider that appears after running.\n",
        "def draw_mass_histogram(bin_width):\n",
        "    penguins.hist('body_mass_g', bins = np.arange(2700, 6300+2*bin_width, bin_width), density = False)\n",
        "    \n",
        "interact(draw_mass_histogram, bin_width=IntSlider(min=25, max=2000, step=25, continuous_update=False));"
      ]
    },
    {
      "cell_type": "markdown",
      "metadata": {
        "id": "FiTKzzsUWhLh"
      },
      "source": [
        "**Question 2.4:** In the cell below, draw two histograms using two different sized bins (bin width to **100** and **750**). Compare the output."
      ]
    },
    {
      "cell_type": "markdown",
      "metadata": {
        "id": "WXRVUgURWhLi"
      },
      "source": [
        "The first histogram should look like this:\n",
        "\n",
        "<img src=\"https://wsu-courses.s3.amazonaws.com/fall2022/cais105/assignment6/examples/q2d-1.png\">\n",
        "\n",
        "The second histogram should look similar to below:\n",
        "\n",
        "<img src=\"https://wsu-courses.s3.amazonaws.com/fall2022/cais105/assignment6/examples/q2d-2.png\">\n"
      ]
    },
    {
      "cell_type": "code",
      "execution_count": 26,
      "metadata": {
        "tags": [],
        "colab": {
          "base_uri": "https://localhost:8080/",
          "height": 282
        },
        "id": "75-ZCuXoWhLi",
        "outputId": "388ac3fb-af4e-4bc0-d656-460b09b8b655"
      },
      "outputs": [
        {
          "output_type": "display_data",
          "data": {
            "text/plain": [
              "<Figure size 432x288 with 1 Axes>"
            ],
            "image/png": "[encoded data removed]"
          },
          "metadata": {
            "needs_background": "light"
          }
        }
      ],
      "source": [
        "# Draw the histograms here, using the narrow bins\n",
        "narrow_bins = np.arange(2000, 7001, 100)\n",
        "penguins.hist(\"body_mass_g\", bins=narrow_bins, density=False)"
      ]
    },
    {
      "cell_type": "code",
      "execution_count": 27,
      "metadata": {
        "tags": [],
        "colab": {
          "base_uri": "https://localhost:8080/",
          "height": 282
        },
        "id": "dMYX9l_aWhLi",
        "outputId": "9bc59fc9-87c4-4d6c-9c08-b47c4bb949b6"
      },
      "outputs": [
        {
          "output_type": "display_data",
          "data": {
            "text/plain": [
              "<Figure size 432x288 with 1 Axes>"
            ],
            "image/png": "[encoded data removed]"
          },
          "metadata": {
            "needs_background": "light"
          }
        }
      ],
      "source": [
        "# Draw the histograms here, using the narrow bins\n",
        "wide_bins = np.arange(2000, 7001, 500)\n",
        "penguins.hist(\"body_mass_g\", bins=wide_bins, density=False)"
      ]
    },
    {
      "cell_type": "markdown",
      "metadata": {
        "id": "mbrBU-RUWhLi"
      },
      "source": [
        "**Question 2.5.** In one of the previous questions, you plotted the distribution of penguins' body mass measurements for the **entire dataset**. While doing so is important to visualize our data as a whole, we can uncover underlying patterns within our data by grouping. This process is known as **disaggregation**: separating aggregated data into its component parts.\n",
        "\n",
        "For this question, using the `penguins` table and the `hist` table method and its various optional arguments, create the disaggregated histograms, similar to the ones shown below.\n",
        "\n",
        "<img src=\"https://wsu-courses.s3.amazonaws.com/fall2022/cais105/assignment6/examples/q2e.png\">\n",
        "\n",
        "*Note*: Use the `my_bins` variable we've defined as the optional `bins` argument of the `hist` method. Use `help(penguins.hist)` to see the available optional arguments.\n"
      ]
    },
    {
      "cell_type": "code",
      "execution_count": 28,
      "metadata": {
        "tags": [],
        "colab": {
          "base_uri": "https://localhost:8080/",
          "height": 716
        },
        "id": "OdR_B6TFWhLi",
        "outputId": "1648781c-9b36-42f8-e0fd-3e789e70f44b"
      },
      "outputs": [
        {
          "output_type": "display_data",
          "data": {
            "text/plain": [
              "<Figure size 432x864 with 3 Axes>"
            ],
            "image/png": "[encoded data removed]"
          },
          "metadata": {
            "needs_background": "light"
          }
        }
      ],
      "source": [
        "# Write the code to create the 3 separate bar graphs here. \n",
        "# Use the bins provided below.\n",
        "my_bins = np.arange(2500, 6501, 500)\n",
        "penguins.hist(\"body_mass_g\", group=\"species\", overlay = False, bins=wide_bins, density=False)"
      ]
    },
    {
      "cell_type": "markdown",
      "metadata": {
        "id": "AfujtPOGWhLi"
      },
      "source": [
        "## Question 3: [scatter](http://data8.org/datascience/_autosummary/datascience.tables.Table.scatter.html#datascience.tables.Table.scatter) method\n",
        "\n",
        "As we mentioned, visualizing two variables can show us patterns in the data that can help us learn new information. The `scatter` method allows us to see the relationship between two numerical variables in our data using a **scatter plot**. For this, we will use a different data\n",
        "\n",
        "The first provided column name goes along the x-axis and the second goes along the y-axis."
      ]
    },
    {
      "cell_type": "markdown",
      "metadata": {
        "id": "8dM7Hvy4WhLi"
      },
      "source": [
        "**Question 3.1.** Use the following cell to produce a scatter plot that plots `\"bill_length_mm\"` on the x-axis and `\"bill_depth_mm\"` on the y-axis. Additionally, the scatter plot should plot **each penguin species** as its own, unique color. Your plot should look like this:\n",
        "\n",
        "<img src=\"https://wsu-courses.s3.amazonaws.com/fall2022/cais105/assignment6/examples/bill_length_vs_depth.png\">\n",
        "\n",
        "*Hint*: You may find the optional arguments of the `scatter` method helpful. See the [Scatter method reference](http://data8.org/datascience/_autosummary/datascience.tables.Table.scatter.html#datascience.tables.Table.scatter) for more details. "
      ]
    },
    {
      "cell_type": "code",
      "execution_count": 29,
      "metadata": {
        "tags": [],
        "colab": {
          "base_uri": "https://localhost:8080/",
          "height": 336
        },
        "id": "kdFgTP8WWhLj",
        "outputId": "ad8660d7-1fb2-4d3f-d1ca-529c727555eb"
      },
      "outputs": [
        {
          "output_type": "display_data",
          "data": {
            "text/plain": [
              "<Figure size 360x360 with 1 Axes>"
            ],
            "image/png": "[encoded data removed]"
          },
          "metadata": {
            "needs_background": "light"
          }
        }
      ],
      "source": [
        "# Write the code to create the scatter plot here\n",
        "penguins.scatter(\"bill_length_mm\",select = \"bill_length_mm\", group=\"species\")"
      ]
    },
    {
      "cell_type": "markdown",
      "metadata": {
        "id": "D860-ffFWhLj"
      },
      "source": [
        "**Question 3.2.** Here's a breakdown of the plot from the previous question:\n",
        "- Position on the x-axis represents bill length.\n",
        "- Position on the y-axis represents bill depth.\n",
        "- Color represents species, as per the legend on the right.\n",
        "\n",
        "You'll note that there are three general \"clusters\" or \"groups\" of points, corresponding to the three penguin species. Use the scatter plot to fill in the blanks below. Both blanks should be a species of penguin.\n",
        "\n",
        ">_\"It appears that the distribution of bill lengths of Chinstrap penguins is very similar to the distribution of bill lengths of_ **[Answer for Question 3.2a]** _penguins, while the distribution of bill depths of Chinstrap penguins is very similar to the distribution of bill depths of_ **[Answer for Question 3.2b]** _penguins.\"_\n"
      ]
    },
    {
      "cell_type": "code",
      "execution_count": 30,
      "metadata": {
        "tags": [],
        "id": "7dpDzaXlWhLj"
      },
      "outputs": [],
      "source": [
        "# Answer question 3.2a here\n",
        "# Which penguin species has a bill length distribution similar to the Chinstrap penguins?\n",
        "q3_2a = 'Gentoo'"
      ]
    },
    {
      "cell_type": "code",
      "execution_count": 31,
      "metadata": {
        "tags": [],
        "id": "35OtOp3qWhLj"
      },
      "outputs": [],
      "source": [
        "# Answer question 3.2B here\n",
        "# Which penguin species has a bill depth distribution similar to the Chinstrap penguins?\n",
        "q3_2b = 'Adelie'"
      ]
    },
    {
      "cell_type": "code",
      "execution_count": 32,
      "metadata": {
        "deletable": false,
        "editable": false,
        "colab": {
          "base_uri": "https://localhost:8080/",
          "height": 70
        },
        "id": "dg0U92c-WhLj",
        "outputId": "b3a0db45-1cce-4e87-afdd-fb3b0fe2683f"
      },
      "outputs": [
        {
          "output_type": "execute_result",
          "data": {
            "text/plain": [
              "q3b results: All test cases passed!\n",
              "q3b - 1 message: Good job!"
            ],
            "text/html": [
              "<p><strong><pre style='display: inline;'>q3b</pre></strong> passed! 🚀</p><p><strong><pre style='display: inline;'>q3b - 1</pre> message:</strong> Good job!</p>"
            ]
          },
          "metadata": {},
          "execution_count": 32
        }
      ],
      "source": [
        "grader.check(\"q3b\")"
      ]
    },
    {
      "cell_type": "markdown",
      "metadata": {
        "id": "iYDMG1-cWhLj"
      },
      "source": [
        "**Question 3.3** While the visualization in **Question 3.1** is helpful is distinguishing between species, we lose important information -- one such feature we lose is the **sex** of the penguin. To visually compare the male and female penguins, we must do some additional digging.\n",
        "\n",
        "In the cell below, plot a scatter plot for **only the Gentoo penguins** with `\"bill_length_mm\"` on the x-axis and `\"bill_depth_mm\"` on the y-axis, color coded by the value in the `\"sex\"` column. \n",
        "\n",
        "Your graph should look similar to this: \n",
        "\n",
        "<img src=\"https://wsu-courses.s3.amazonaws.com/fall2022/cais105/assignment6/examples/q3c.png\">\n",
        "\n",
        "*Hint*: You should create a new table which only includes rows from the `penguins` table that correspond to Gentoo penguins. \n"
      ]
    },
    {
      "cell_type": "code",
      "execution_count": 33,
      "metadata": {
        "tags": [],
        "colab": {
          "base_uri": "https://localhost:8080/",
          "height": 236
        },
        "id": "ub41Vd90WhLj",
        "outputId": "219a8081-02fc-4729-fc24-d5f622c98a8b"
      },
      "outputs": [
        {
          "output_type": "display_data",
          "data": {
            "text/plain": [
              "<IPython.core.display.HTML object>"
            ],
            "text/html": [
              "<table border=\"1\" class=\"dataframe\">\n",
              "    <thead>\n",
              "        <tr>\n",
              "            <th>species</th> <th>island</th> <th>bill_length_mm</th> <th>bill_depth_mm</th> <th>flipper_length_mm</th> <th>body_mass_g</th> <th>sex</th>\n",
              "        </tr>\n",
              "    </thead>\n",
              "    <tbody>\n",
              "        <tr>\n",
              "            <td>Gentoo </td> <td>Biscoe</td> <td>46.1          </td> <td>13.2         </td> <td>211              </td> <td>4500       </td> <td>Female</td>\n",
              "        </tr>\n",
              "        <tr>\n",
              "            <td>Gentoo </td> <td>Biscoe</td> <td>50            </td> <td>16.3         </td> <td>230              </td> <td>5700       </td> <td>Male  </td>\n",
              "        </tr>\n",
              "        <tr>\n",
              "            <td>Gentoo </td> <td>Biscoe</td> <td>48.7          </td> <td>14.1         </td> <td>210              </td> <td>4450       </td> <td>Female</td>\n",
              "        </tr>\n",
              "        <tr>\n",
              "            <td>Gentoo </td> <td>Biscoe</td> <td>50            </td> <td>15.2         </td> <td>218              </td> <td>5700       </td> <td>Male  </td>\n",
              "        </tr>\n",
              "        <tr>\n",
              "            <td>Gentoo </td> <td>Biscoe</td> <td>47.6          </td> <td>14.5         </td> <td>215              </td> <td>5400       </td> <td>Male  </td>\n",
              "        </tr>\n",
              "    </tbody>\n",
              "</table>\n",
              "<p>... (114 rows omitted)</p>"
            ]
          },
          "metadata": {}
        }
      ],
      "source": [
        "# create a new table which only includes Gentoo penguins.\n",
        "gentoo_penguins = penguins.where (\"species\", are.equal_to('Gentoo'))\n",
        "gentoo_penguins.show(5)"
      ]
    },
    {
      "cell_type": "code",
      "execution_count": 34,
      "metadata": {
        "tags": [],
        "colab": {
          "base_uri": "https://localhost:8080/",
          "height": 336
        },
        "id": "2Ntps_aFWhLj",
        "outputId": "6c46564c-6ae0-48c9-acd8-a3ea9bdf00c3"
      },
      "outputs": [
        {
          "output_type": "display_data",
          "data": {
            "text/plain": [
              "<Figure size 360x360 with 1 Axes>"
            ],
            "image/png": "[encoded data removed]"
          },
          "metadata": {
            "needs_background": "light"
          }
        }
      ],
      "source": [
        "# Write the code to create a scatter plot of Gentoo penguins bill length and bill depth\n",
        "gentoo_penguins.scatter(\"bill_length_mm\", select=\"bill_depth_mm\", group=\"sex\")"
      ]
    },
    {
      "cell_type": "code",
      "execution_count": 35,
      "metadata": {
        "deletable": false,
        "editable": false,
        "colab": {
          "base_uri": "https://localhost:8080/",
          "height": 46
        },
        "id": "ked7B0vPWhLk",
        "outputId": "73f1b8f5-62a4-4e4c-df55-67cfc5d10488"
      },
      "outputs": [
        {
          "output_type": "execute_result",
          "data": {
            "text/plain": [
              "q3c results: All test cases passed!"
            ],
            "text/html": [
              "<p><strong><pre style='display: inline;'>q3c</pre></strong> passed! 🚀</p>"
            ]
          },
          "metadata": {},
          "execution_count": 35
        }
      ],
      "source": [
        "grader.check(\"q3c\")"
      ]
    },
    {
      "cell_type": "markdown",
      "metadata": {
        "id": "aQkdNvESWhLk"
      },
      "source": [
        "If you've created the plot above correctly, you'll notice that male Gentoo penguins tend to have *both* longer and deeper bills."
      ]
    },
    {
      "cell_type": "markdown",
      "metadata": {
        "id": "d92UhVHOWhLk"
      },
      "source": [
        "**Question 3.4** You would also like to investigate the relationship between `\"flipper_length_m\"` and `\"body_mass_g\"` in each species. \n",
        "\n",
        "Your graph should look similar to this: \n",
        "\n",
        "<img src=\"https://wsu-courses.s3.amazonaws.com/fall2022/cais105/assignment6/examples/q3d.png\">\n"
      ]
    },
    {
      "cell_type": "code",
      "execution_count": 36,
      "metadata": {
        "tags": [],
        "colab": {
          "base_uri": "https://localhost:8080/",
          "height": 336
        },
        "id": "O3ovcScJWhLk",
        "outputId": "c7ea84eb-dc5f-4e93-9b56-a40b96734476"
      },
      "outputs": [
        {
          "output_type": "display_data",
          "data": {
            "text/plain": [
              "<Figure size 360x360 with 1 Axes>"
            ],
            "image/png": "[encoded data removed]"
          },
          "metadata": {
            "needs_background": "light"
          }
        }
      ],
      "source": [
        "# Write the code to create a scatter plot of flipper length and body mass for each species\n",
        "penguins.scatter(\"flipper_length_mm\", select=\"body_mass_g\", group=\"species\")"
      ]
    },
    {
      "cell_type": "markdown",
      "metadata": {
        "id": "b00SAotVWhLk"
      },
      "source": [
        "**Question 3.5**: Based on the scatter plot above, you would like to be able to estimate a penguin's weight based on it's flipper length. To do this you can use the `fit_line` parameter of the `scatter` method.\n",
        "\n",
        "Your graph should look similar to this: \n",
        "\n",
        "<img src=\"https://wsu-courses.s3.amazonaws.com/fall2022/cais105/assignment6/examples/q3e.png\">\n",
        "\n",
        "_Hint_: remove the \"group\" parameter. "
      ]
    },
    {
      "cell_type": "code",
      "execution_count": 37,
      "metadata": {
        "tags": [],
        "colab": {
          "base_uri": "https://localhost:8080/",
          "height": 336
        },
        "id": "3Icp45D-WhLk",
        "outputId": "3290ac07-87d8-45a8-c59b-e540b9819590"
      },
      "outputs": [
        {
          "output_type": "display_data",
          "data": {
            "text/plain": [
              "<Figure size 360x360 with 1 Axes>"
            ],
            "image/png": "[encoded data removed]"
          },
          "metadata": {
            "needs_background": "light"
          }
        }
      ],
      "source": [
        "# Write the code to fit a line to the flipper length and body mass data \n",
        "penguins.scatter(\"flipper_length_mm\", select=\"body_mass_g\", fit_line = True)"
      ]
    },
    {
      "cell_type": "markdown",
      "metadata": {
        "id": "Yv4KiPsyWhLk"
      },
      "source": [
        "**Question 3.6**: Based on the scatter plot above, what is the weight of a penguin whose flipper length is **200 mm**?"
      ]
    },
    {
      "cell_type": "code",
      "execution_count": 38,
      "metadata": {
        "tags": [],
        "id": "EomDWOTNWhLl"
      },
      "outputs": [],
      "source": [
        "# Enter the estimated weight of a penguin with 200 mm flipper length, round it to the nearest 100s.\n",
        "q3_6 = 4200"
      ]
    },
    {
      "cell_type": "code",
      "execution_count": 39,
      "metadata": {
        "deletable": false,
        "editable": false,
        "colab": {
          "base_uri": "https://localhost:8080/",
          "height": 70
        },
        "id": "QuHBKx0_WhLl",
        "outputId": "9917e08a-0733-40a3-8bf2-cc456a51092d"
      },
      "outputs": [
        {
          "output_type": "execute_result",
          "data": {
            "text/plain": [
              "q3f results: All test cases passed!\n",
              "q3f - 1 message: Good job!"
            ],
            "text/html": [
              "<p><strong><pre style='display: inline;'>q3f</pre></strong> passed! 💯</p><p><strong><pre style='display: inline;'>q3f - 1</pre> message:</strong> Good job!</p>"
            ]
          },
          "metadata": {},
          "execution_count": 39
        }
      ],
      "source": [
        "grader.check(\"q3f\")"
      ]
    },
    {
      "cell_type": "markdown",
      "metadata": {
        "id": "MOSIdFoVWhLl"
      },
      "source": [
        "## The Power of Visualizations\n",
        "\n",
        "Look back to the scatter plot you created in **Question 4a**; we used the `\"bill_length_mm\"` and `\"bill_depth_mm\"` to produce a visualization that allows us to group the different penguin species together. This is a basic form of **clustering**, an extremely powerful tool in data science. We won't get into clustering in this class, but you may come across it in an upper level elective, such as the Machine Learning course.\n",
        "\n",
        "Just for fun, run the following cell to produce a *three dimensional scatter plot* using the `\"bill_length_mm\"`, `\"bill_depth_mm\"`, and `\"flipper_length_mm\"` columns."
      ]
    },
    {
      "cell_type": "code",
      "execution_count": 40,
      "metadata": {
        "colab": {
          "base_uri": "https://localhost:8080/",
          "height": 542
        },
        "id": "m97K2DMrWhLl",
        "outputId": "036bc6e3-4466-47d8-b3f8-8e4ad84b124d"
      },
      "outputs": [
        {
          "output_type": "display_data",
          "data": {
            "text/html": [
              "<html>\n",
              "<head><meta charset=\"utf-8\" /></head>\n",
              "<body>\n",
              "    <div>            <script src=\"https://cdnjs.cloudflare.com/ajax/libs/mathjax/2.7.5/MathJax.js?config=TeX-AMS-MML_SVG\"></script><script type=\"text/javascript\">if (window.MathJax) {MathJax.Hub.Config({SVG: {font: \"STIX-Web\"}});}</script>                <script type=\"text/javascript\">window.PlotlyConfig = {MathJaxConfig: 'local'};</script>\n",
              "        <script src=\"https://cdn.plot.ly/plotly-2.8.3.min.js\"></script>                <div id=\"096c4d69-fc76-4487-ae49-8d500f2374a0\" class=\"plotly-graph-div\" style=\"height:525px; width:100%;\"></div>            <script type=\"text/javascript\">                                    window.PLOTLYENV=window.PLOTLYENV || {};                                    if (document.getElementById(\"096c4d69-fc76-4487-ae49-8d500f2374a0\")) {                    Plotly.newPlot(                        \"096c4d69-fc76-4487-ae49-8d500f2374a0\",                        [{\"marker\":{\"color\":\"rgb(0,30,66)\",\"size\":5},\"mode\":\"markers\",\"name\":\"species=Gentoo\",\"showlegend\":true,\"textfont\":{\"color\":\"rgb(0,30,66)\"},\"textposition\":\"bottom center\",\"x\":[46.1,50.0,48.7,50.0,47.6,46.5,45.4,46.7,43.3,46.8,40.9,49.0,45.5,48.4,45.8,49.3,42.0,49.2,46.2,48.7,50.2,45.1,46.5,46.3,42.9,46.1,47.8,48.2,50.0,47.3,42.8,45.1,59.6,49.1,48.4,42.6,44.4,44.0,48.7,42.7,49.6,45.3,49.6,50.5,43.6,45.5,50.5,44.9,45.2,46.6,48.5,45.1,50.1,46.5,45.0,43.8,45.5,43.2,50.4,45.3,46.2,45.7,54.3,45.8,49.8,49.5,43.5,50.7,47.7,46.4,48.2,46.5,46.4,48.6,47.5,51.1,45.2,45.2,49.1,52.5,47.4,50.0,44.9,50.8,43.4,51.3,47.5,52.1,47.5,52.2,45.5,49.5,44.5,50.8,49.4,46.9,48.4,51.1,48.5,55.9,47.2,49.1,46.8,41.7,53.4,43.3,48.1,50.5,49.8,43.5,51.5,46.2,55.1,48.8,47.2,46.8,50.4,45.2,49.9],\"y\":[13.2,16.3,14.1,15.2,14.5,13.5,14.6,15.3,13.4,15.4,13.7,16.1,13.7,14.6,14.6,15.7,13.5,15.2,14.5,15.1,14.3,14.5,14.5,15.8,13.1,15.1,15.0,14.3,15.3,15.3,14.2,14.5,17.0,14.8,16.3,13.7,17.3,13.6,15.7,13.7,16.0,13.7,15.0,15.9,13.9,13.9,15.9,13.3,15.8,14.2,14.1,14.4,15.0,14.4,15.4,13.9,15.0,14.5,15.3,13.8,14.9,13.9,15.7,14.2,16.8,16.2,14.2,15.0,15.0,15.6,15.6,14.8,15.0,16.0,14.2,16.3,13.8,16.4,14.5,15.6,14.6,15.9,13.8,17.3,14.4,14.2,14.0,17.0,15.0,17.1,14.5,16.1,14.7,15.7,15.8,14.6,14.4,16.5,15.0,17.0,15.5,15.0,16.1,14.7,15.8,14.0,15.1,15.2,15.9,15.2,16.3,14.1,16.0,16.2,13.7,14.3,15.7,14.8,16.1],\"z\":[211.0,230.0,210.0,218.0,215.0,210.0,211.0,219.0,209.0,215.0,214.0,216.0,214.0,213.0,210.0,217.0,210.0,221.0,209.0,222.0,218.0,215.0,213.0,215.0,215.0,215.0,215.0,210.0,220.0,222.0,209.0,207.0,230.0,220.0,220.0,213.0,219.0,208.0,208.0,208.0,225.0,210.0,216.0,222.0,217.0,210.0,225.0,213.0,215.0,210.0,220.0,210.0,225.0,217.0,220.0,208.0,220.0,208.0,224.0,208.0,221.0,214.0,231.0,219.0,230.0,229.0,220.0,223.0,216.0,221.0,221.0,217.0,216.0,230.0,209.0,220.0,215.0,223.0,212.0,221.0,212.0,224.0,212.0,228.0,218.0,218.0,212.0,230.0,218.0,228.0,212.0,224.0,214.0,226.0,216.0,222.0,203.0,225.0,219.0,228.0,215.0,228.0,215.0,210.0,219.0,208.0,209.0,216.0,229.0,213.0,230.0,217.0,230.0,222.0,214.0,215.0,222.0,212.0,213.0],\"type\":\"scatter3d\",\"scene\":\"scene\"},{\"marker\":{\"color\":\"rgb(256,200,44)\",\"size\":5},\"mode\":\"markers\",\"name\":\"species=Chinstrap\",\"showlegend\":true,\"textfont\":{\"color\":\"rgb(0,30,66)\"},\"textposition\":\"bottom center\",\"x\":[46.5,50.0,51.3,45.4,52.7,45.2,46.1,51.3,46.0,51.3,46.6,51.7,47.0,52.0,45.9,50.5,50.3,58.0,46.4,49.2,42.4,48.5,43.2,50.6,46.7,52.0,50.5,49.5,46.4,52.8,40.9,54.2,42.5,51.0,49.7,47.5,47.6,52.0,46.9,53.5,49.0,46.2,50.9,45.5,50.9,50.8,50.1,49.0,51.5,49.8,48.1,51.4,45.7,50.7,42.5,52.2,45.2,49.3,50.2,45.6,51.9,46.8,45.7,55.8,43.5,49.6,50.8,50.2],\"y\":[17.9,19.5,19.2,18.7,19.8,17.8,18.2,18.2,18.9,19.9,17.8,20.3,17.3,18.1,17.1,19.6,20.0,17.8,18.6,18.2,17.3,17.5,16.6,19.4,17.9,19.0,18.4,19.0,17.8,20.0,16.6,20.8,16.7,18.8,18.6,16.8,18.3,20.7,16.6,19.9,19.5,17.5,19.1,17.0,17.9,18.5,17.9,19.6,18.7,17.3,16.4,19.0,17.3,19.7,17.3,18.8,16.6,19.9,18.8,19.4,19.5,16.5,17.0,19.8,18.1,18.2,19.0,18.7],\"z\":[192.0,196.0,193.0,188.0,197.0,198.0,178.0,197.0,195.0,198.0,193.0,194.0,185.0,201.0,190.0,201.0,197.0,181.0,190.0,195.0,181.0,191.0,187.0,193.0,195.0,197.0,200.0,200.0,191.0,205.0,187.0,201.0,187.0,203.0,195.0,199.0,195.0,210.0,192.0,205.0,210.0,187.0,196.0,196.0,196.0,201.0,190.0,212.0,187.0,198.0,199.0,201.0,193.0,203.0,187.0,197.0,191.0,203.0,202.0,194.0,206.0,189.0,195.0,207.0,202.0,193.0,210.0,198.0],\"type\":\"scatter3d\",\"scene\":\"scene\"},{\"marker\":{\"color\":\"rgb(0,150,207)\",\"size\":5},\"mode\":\"markers\",\"name\":\"species=Adelie\",\"showlegend\":true,\"textfont\":{\"color\":\"rgb(0,30,66)\"},\"textposition\":\"bottom center\",\"x\":[39.1,39.5,40.3,36.7,39.3,38.9,39.2,41.1,38.6,34.6,36.6,38.7,42.5,34.4,46.0,37.8,37.7,35.9,38.2,38.8,35.3,40.6,40.5,37.9,40.5,39.5,37.2,39.5,40.9,36.4,39.2,38.8,42.2,37.6,39.8,36.5,40.8,36.0,44.1,37.0,39.6,41.1,36.0,42.3,39.6,40.1,35.0,42.0,34.5,41.4,39.0,40.6,36.5,37.6,35.7,41.3,37.6,41.1,36.4,41.6,35.5,41.1,35.9,41.8,33.5,39.7,39.6,45.8,35.5,42.8,40.9,37.2,36.2,42.1,34.6,42.9,36.7,35.1,37.3,41.3,36.3,36.9,38.3,38.9,35.7,41.1,34.0,39.6,36.2,40.8,38.1,40.3,33.1,43.2,35.0,41.0,37.7,37.8,37.9,39.7,38.6,38.2,38.1,43.2,38.1,45.6,39.7,42.2,39.6,42.7,38.6,37.3,35.7,41.1,36.2,37.7,40.2,41.4,35.2,40.6,38.8,41.5,39.0,44.1,38.5,43.1,36.8,37.5,38.1,41.1,35.6,40.2,37.0,39.7,40.2,40.6,32.1,40.7,37.3,39.0,39.2,36.6,36.0,37.8,36.0,41.5],\"y\":[18.7,17.4,18.0,19.3,20.6,17.8,19.6,17.6,21.2,21.1,17.8,19.0,20.7,18.4,21.5,18.3,18.7,19.2,18.1,17.2,18.9,18.6,17.9,18.6,18.9,16.7,18.1,17.8,18.9,17.0,21.1,20.0,18.5,19.3,19.1,18.0,18.4,18.5,19.7,16.9,18.8,19.0,17.9,21.2,17.7,18.9,17.9,19.5,18.1,18.6,17.5,18.8,16.6,19.1,16.9,21.1,17.0,18.2,17.1,18.0,16.2,19.1,16.6,19.4,19.0,18.4,17.2,18.9,17.5,18.5,16.8,19.4,16.1,19.1,17.2,17.6,18.8,19.4,17.8,20.3,19.5,18.6,19.2,18.8,18.0,18.1,17.1,18.1,17.3,18.9,18.6,18.5,16.1,18.5,17.9,20.0,16.0,20.0,18.6,18.9,17.2,20.0,17.0,19.0,16.5,20.3,17.7,19.5,20.7,18.3,17.0,20.5,17.0,18.6,17.2,19.8,17.0,18.5,15.9,19.0,17.6,18.3,17.1,18.0,17.9,19.2,18.5,18.5,17.6,17.5,17.5,20.1,16.5,17.9,17.1,17.2,15.5,17.0,16.8,18.7,18.6,18.4,17.8,18.1,17.1,18.5],\"z\":[181.0,186.0,195.0,193.0,190.0,181.0,195.0,182.0,191.0,198.0,185.0,195.0,197.0,184.0,194.0,174.0,180.0,189.0,185.0,180.0,187.0,183.0,187.0,172.0,180.0,178.0,178.0,188.0,184.0,195.0,196.0,190.0,180.0,181.0,184.0,182.0,195.0,186.0,196.0,185.0,190.0,182.0,190.0,191.0,186.0,188.0,190.0,200.0,187.0,191.0,186.0,193.0,181.0,194.0,185.0,195.0,185.0,192.0,184.0,192.0,195.0,188.0,190.0,198.0,190.0,190.0,196.0,197.0,190.0,195.0,191.0,184.0,187.0,195.0,189.0,196.0,187.0,193.0,191.0,194.0,190.0,189.0,189.0,190.0,202.0,205.0,185.0,186.0,187.0,208.0,190.0,196.0,178.0,192.0,192.0,203.0,183.0,190.0,193.0,184.0,199.0,190.0,181.0,197.0,198.0,191.0,193.0,197.0,191.0,196.0,188.0,199.0,189.0,189.0,187.0,198.0,176.0,202.0,186.0,199.0,191.0,195.0,191.0,210.0,190.0,197.0,193.0,199.0,187.0,190.0,191.0,200.0,185.0,193.0,193.0,187.0,188.0,190.0,192.0,185.0,190.0,184.0,195.0,193.0,187.0,201.0],\"type\":\"scatter3d\",\"scene\":\"scene\"}],                        {\"template\":{\"data\":{\"bar\":[{\"error_x\":{\"color\":\"#2a3f5f\"},\"error_y\":{\"color\":\"#2a3f5f\"},\"marker\":{\"line\":{\"color\":\"#E5ECF6\",\"width\":0.5},\"pattern\":{\"fillmode\":\"overlay\",\"size\":10,\"solidity\":0.2}},\"type\":\"bar\"}],\"barpolar\":[{\"marker\":{\"line\":{\"color\":\"#E5ECF6\",\"width\":0.5},\"pattern\":{\"fillmode\":\"overlay\",\"size\":10,\"solidity\":0.2}},\"type\":\"barpolar\"}],\"carpet\":[{\"aaxis\":{\"endlinecolor\":\"#2a3f5f\",\"gridcolor\":\"white\",\"linecolor\":\"white\",\"minorgridcolor\":\"white\",\"startlinecolor\":\"#2a3f5f\"},\"baxis\":{\"endlinecolor\":\"#2a3f5f\",\"gridcolor\":\"white\",\"linecolor\":\"white\",\"minorgridcolor\":\"white\",\"startlinecolor\":\"#2a3f5f\"},\"type\":\"carpet\"}],\"choropleth\":[{\"colorbar\":{\"outlinewidth\":0,\"ticks\":\"\"},\"type\":\"choropleth\"}],\"contour\":[{\"colorbar\":{\"outlinewidth\":0,\"ticks\":\"\"},\"colorscale\":[[0.0,\"#0d0887\"],[0.1111111111111111,\"#46039f\"],[0.2222222222222222,\"#7201a8\"],[0.3333333333333333,\"#9c179e\"],[0.4444444444444444,\"#bd3786\"],[0.5555555555555556,\"#d8576b\"],[0.6666666666666666,\"#ed7953\"],[0.7777777777777778,\"#fb9f3a\"],[0.8888888888888888,\"#fdca26\"],[1.0,\"#f0f921\"]],\"type\":\"contour\"}],\"contourcarpet\":[{\"colorbar\":{\"outlinewidth\":0,\"ticks\":\"\"},\"type\":\"contourcarpet\"}],\"heatmap\":[{\"colorbar\":{\"outlinewidth\":0,\"ticks\":\"\"},\"colorscale\":[[0.0,\"#0d0887\"],[0.1111111111111111,\"#46039f\"],[0.2222222222222222,\"#7201a8\"],[0.3333333333333333,\"#9c179e\"],[0.4444444444444444,\"#bd3786\"],[0.5555555555555556,\"#d8576b\"],[0.6666666666666666,\"#ed7953\"],[0.7777777777777778,\"#fb9f3a\"],[0.8888888888888888,\"#fdca26\"],[1.0,\"#f0f921\"]],\"type\":\"heatmap\"}],\"heatmapgl\":[{\"colorbar\":{\"outlinewidth\":0,\"ticks\":\"\"},\"colorscale\":[[0.0,\"#0d0887\"],[0.1111111111111111,\"#46039f\"],[0.2222222222222222,\"#7201a8\"],[0.3333333333333333,\"#9c179e\"],[0.4444444444444444,\"#bd3786\"],[0.5555555555555556,\"#d8576b\"],[0.6666666666666666,\"#ed7953\"],[0.7777777777777778,\"#fb9f3a\"],[0.8888888888888888,\"#fdca26\"],[1.0,\"#f0f921\"]],\"type\":\"heatmapgl\"}],\"histogram\":[{\"marker\":{\"pattern\":{\"fillmode\":\"overlay\",\"size\":10,\"solidity\":0.2}},\"type\":\"histogram\"}],\"histogram2d\":[{\"colorbar\":{\"outlinewidth\":0,\"ticks\":\"\"},\"colorscale\":[[0.0,\"#0d0887\"],[0.1111111111111111,\"#46039f\"],[0.2222222222222222,\"#7201a8\"],[0.3333333333333333,\"#9c179e\"],[0.4444444444444444,\"#bd3786\"],[0.5555555555555556,\"#d8576b\"],[0.6666666666666666,\"#ed7953\"],[0.7777777777777778,\"#fb9f3a\"],[0.8888888888888888,\"#fdca26\"],[1.0,\"#f0f921\"]],\"type\":\"histogram2d\"}],\"histogram2dcontour\":[{\"colorbar\":{\"outlinewidth\":0,\"ticks\":\"\"},\"colorscale\":[[0.0,\"#0d0887\"],[0.1111111111111111,\"#46039f\"],[0.2222222222222222,\"#7201a8\"],[0.3333333333333333,\"#9c179e\"],[0.4444444444444444,\"#bd3786\"],[0.5555555555555556,\"#d8576b\"],[0.6666666666666666,\"#ed7953\"],[0.7777777777777778,\"#fb9f3a\"],[0.8888888888888888,\"#fdca26\"],[1.0,\"#f0f921\"]],\"type\":\"histogram2dcontour\"}],\"mesh3d\":[{\"colorbar\":{\"outlinewidth\":0,\"ticks\":\"\"},\"type\":\"mesh3d\"}],\"parcoords\":[{\"line\":{\"colorbar\":{\"outlinewidth\":0,\"ticks\":\"\"}},\"type\":\"parcoords\"}],\"pie\":[{\"automargin\":true,\"type\":\"pie\"}],\"scatter\":[{\"marker\":{\"colorbar\":{\"outlinewidth\":0,\"ticks\":\"\"}},\"type\":\"scatter\"}],\"scatter3d\":[{\"line\":{\"colorbar\":{\"outlinewidth\":0,\"ticks\":\"\"}},\"marker\":{\"colorbar\":{\"outlinewidth\":0,\"ticks\":\"\"}},\"type\":\"scatter3d\"}],\"scattercarpet\":[{\"marker\":{\"colorbar\":{\"outlinewidth\":0,\"ticks\":\"\"}},\"type\":\"scattercarpet\"}],\"scattergeo\":[{\"marker\":{\"colorbar\":{\"outlinewidth\":0,\"ticks\":\"\"}},\"type\":\"scattergeo\"}],\"scattergl\":[{\"marker\":{\"colorbar\":{\"outlinewidth\":0,\"ticks\":\"\"}},\"type\":\"scattergl\"}],\"scattermapbox\":[{\"marker\":{\"colorbar\":{\"outlinewidth\":0,\"ticks\":\"\"}},\"type\":\"scattermapbox\"}],\"scatterpolar\":[{\"marker\":{\"colorbar\":{\"outlinewidth\":0,\"ticks\":\"\"}},\"type\":\"scatterpolar\"}],\"scatterpolargl\":[{\"marker\":{\"colorbar\":{\"outlinewidth\":0,\"ticks\":\"\"}},\"type\":\"scatterpolargl\"}],\"scatterternary\":[{\"marker\":{\"colorbar\":{\"outlinewidth\":0,\"ticks\":\"\"}},\"type\":\"scatterternary\"}],\"surface\":[{\"colorbar\":{\"outlinewidth\":0,\"ticks\":\"\"},\"colorscale\":[[0.0,\"#0d0887\"],[0.1111111111111111,\"#46039f\"],[0.2222222222222222,\"#7201a8\"],[0.3333333333333333,\"#9c179e\"],[0.4444444444444444,\"#bd3786\"],[0.5555555555555556,\"#d8576b\"],[0.6666666666666666,\"#ed7953\"],[0.7777777777777778,\"#fb9f3a\"],[0.8888888888888888,\"#fdca26\"],[1.0,\"#f0f921\"]],\"type\":\"surface\"}],\"table\":[{\"cells\":{\"fill\":{\"color\":\"#EBF0F8\"},\"line\":{\"color\":\"white\"}},\"header\":{\"fill\":{\"color\":\"#C8D4E3\"},\"line\":{\"color\":\"white\"}},\"type\":\"table\"}]},\"layout\":{\"annotationdefaults\":{\"arrowcolor\":\"#2a3f5f\",\"arrowhead\":0,\"arrowwidth\":1},\"autotypenumbers\":\"strict\",\"coloraxis\":{\"colorbar\":{\"outlinewidth\":0,\"ticks\":\"\"}},\"colorscale\":{\"diverging\":[[0,\"#8e0152\"],[0.1,\"#c51b7d\"],[0.2,\"#de77ae\"],[0.3,\"#f1b6da\"],[0.4,\"#fde0ef\"],[0.5,\"#f7f7f7\"],[0.6,\"#e6f5d0\"],[0.7,\"#b8e186\"],[0.8,\"#7fbc41\"],[0.9,\"#4d9221\"],[1,\"#276419\"]],\"sequential\":[[0.0,\"#0d0887\"],[0.1111111111111111,\"#46039f\"],[0.2222222222222222,\"#7201a8\"],[0.3333333333333333,\"#9c179e\"],[0.4444444444444444,\"#bd3786\"],[0.5555555555555556,\"#d8576b\"],[0.6666666666666666,\"#ed7953\"],[0.7777777777777778,\"#fb9f3a\"],[0.8888888888888888,\"#fdca26\"],[1.0,\"#f0f921\"]],\"sequentialminus\":[[0.0,\"#0d0887\"],[0.1111111111111111,\"#46039f\"],[0.2222222222222222,\"#7201a8\"],[0.3333333333333333,\"#9c179e\"],[0.4444444444444444,\"#bd3786\"],[0.5555555555555556,\"#d8576b\"],[0.6666666666666666,\"#ed7953\"],[0.7777777777777778,\"#fb9f3a\"],[0.8888888888888888,\"#fdca26\"],[1.0,\"#f0f921\"]]},\"colorway\":[\"#636efa\",\"#EF553B\",\"#00cc96\",\"#ab63fa\",\"#FFA15A\",\"#19d3f3\",\"#FF6692\",\"#B6E880\",\"#FF97FF\",\"#FECB52\"],\"font\":{\"color\":\"#2a3f5f\"},\"geo\":{\"bgcolor\":\"white\",\"lakecolor\":\"white\",\"landcolor\":\"#E5ECF6\",\"showlakes\":true,\"showland\":true,\"subunitcolor\":\"white\"},\"hoverlabel\":{\"align\":\"left\"},\"hovermode\":\"closest\",\"mapbox\":{\"style\":\"light\"},\"paper_bgcolor\":\"white\",\"plot_bgcolor\":\"#E5ECF6\",\"polar\":{\"angularaxis\":{\"gridcolor\":\"white\",\"linecolor\":\"white\",\"ticks\":\"\"},\"bgcolor\":\"#E5ECF6\",\"radialaxis\":{\"gridcolor\":\"white\",\"linecolor\":\"white\",\"ticks\":\"\"}},\"scene\":{\"xaxis\":{\"backgroundcolor\":\"#E5ECF6\",\"gridcolor\":\"white\",\"gridwidth\":2,\"linecolor\":\"white\",\"showbackground\":true,\"ticks\":\"\",\"zerolinecolor\":\"white\"},\"yaxis\":{\"backgroundcolor\":\"#E5ECF6\",\"gridcolor\":\"white\",\"gridwidth\":2,\"linecolor\":\"white\",\"showbackground\":true,\"ticks\":\"\",\"zerolinecolor\":\"white\"},\"zaxis\":{\"backgroundcolor\":\"#E5ECF6\",\"gridcolor\":\"white\",\"gridwidth\":2,\"linecolor\":\"white\",\"showbackground\":true,\"ticks\":\"\",\"zerolinecolor\":\"white\"}},\"shapedefaults\":{\"line\":{\"color\":\"#2a3f5f\"}},\"ternary\":{\"aaxis\":{\"gridcolor\":\"white\",\"linecolor\":\"white\",\"ticks\":\"\"},\"baxis\":{\"gridcolor\":\"white\",\"linecolor\":\"white\",\"ticks\":\"\"},\"bgcolor\":\"#E5ECF6\",\"caxis\":{\"gridcolor\":\"white\",\"linecolor\":\"white\",\"ticks\":\"\"}},\"title\":{\"x\":0.05},\"xaxis\":{\"automargin\":true,\"gridcolor\":\"white\",\"linecolor\":\"white\",\"ticks\":\"\",\"title\":{\"standoff\":15},\"zerolinecolor\":\"white\",\"zerolinewidth\":2},\"yaxis\":{\"automargin\":true,\"gridcolor\":\"white\",\"linecolor\":\"white\",\"ticks\":\"\",\"title\":{\"standoff\":15},\"zerolinecolor\":\"white\",\"zerolinewidth\":2}}},\"scene\":{\"domain\":{\"x\":[0.0,1.0],\"y\":[0.0,1.0]},\"xaxis\":{\"title\":{\"text\":\"bill_length_mm\"}},\"yaxis\":{\"title\":{\"text\":\"bill_depth_mm\"}},\"zaxis\":{\"title\":{\"text\":\"flipper_length_mm\"}}},\"showlegend\":true},                        {\"responsive\": true}                    ).then(function(){\n",
              "                            \n",
              "var gd = document.getElementById('096c4d69-fc76-4487-ae49-8d500f2374a0');\n",
              "var x = new MutationObserver(function (mutations, observer) {{\n",
              "        var display = window.getComputedStyle(gd).display;\n",
              "        if (!display || display === 'none') {{\n",
              "            console.log([gd, 'removed!']);\n",
              "            Plotly.purge(gd);\n",
              "            observer.disconnect();\n",
              "        }}\n",
              "}});\n",
              "\n",
              "// Listen for the removal of the full notebook cells\n",
              "var notebookContainer = gd.closest('#notebook-container');\n",
              "if (notebookContainer) {{\n",
              "    x.observe(notebookContainer, {childList: true});\n",
              "}}\n",
              "\n",
              "// Listen for the clearing of the current output cell\n",
              "var outputEl = gd.closest('.output');\n",
              "if (outputEl) {{\n",
              "    x.observe(outputEl, {childList: true});\n",
              "}}\n",
              "\n",
              "                        })                };                            </script>        </div>\n",
              "</body>\n",
              "</html>"
            ]
          },
          "metadata": {}
        }
      ],
      "source": [
        "# Just run this cell and play around with the visualization! You can zoom in and out, toggle on/off certain\n",
        "# species, and move the plot around\n",
        "Table.interactive_plots()\n",
        "penguins.scatter3d(\"bill_length_mm\", \"bill_depth_mm\", \"flipper_length_mm\", group=\"species\")\n",
        "Table.static_plots()"
      ]
    },
    {
      "cell_type": "markdown",
      "metadata": {
        "id": "uUXDCTdHWhLl"
      },
      "source": [
        "## Question 4: [plot](http://data8.org/datascience/_autosummary/datascience.tables.Table.plot.html#datascience.tables.Table.plot) method\n",
        "\n",
        "If you want to plot two numerical variables but one of those variables corresponds to time, we can use a line plot to visualize the non-time variable as time passes.\n",
        "\n",
        "Similar to `scatter`, we give plot the names of two numerical columns and it creates a **line plot** for us. If we want to draw multiple line plots on the same set of axes, we give it a table with multiple numerical columns, and tell it which one contains the values for the x-axis.\n",
        "\n",
        "The `plot` method allows us to see how non-time variables change over time. Let's use `plot` to look at the Disney movie patterns over the years (the orignal data can be found [here](https://raw.githubusercontent.com/reisanar/datasets/master/disney_movies_total_gross.csv)). First, let's load the data."
      ]
    },
    {
      "cell_type": "code",
      "execution_count": 41,
      "metadata": {
        "colab": {
          "base_uri": "https://localhost:8080/",
          "height": 236
        },
        "id": "h81ypuvhWhLl",
        "outputId": "e7813577-f845-48c0-e657-9a378e2615f7"
      },
      "outputs": [
        {
          "output_type": "display_data",
          "data": {
            "text/plain": [
              "<IPython.core.display.HTML object>"
            ],
            "text/html": [
              "<table border=\"1\" class=\"dataframe\">\n",
              "    <thead>\n",
              "        <tr>\n",
              "            <th>movie_title</th> <th>genre</th> <th>MPAA_rating</th> <th>total_gross</th> <th>inflation_adjusted_gross</th> <th>year</th> <th>decade</th>\n",
              "        </tr>\n",
              "    </thead>\n",
              "    <tbody>\n",
              "        <tr>\n",
              "            <td>Snow White and the Seven Dwarfs</td> <td>Musical  </td> <td>G          </td> <td>1.84925e+08</td> <td>5.22895e+09             </td> <td>1937</td> <td>1930  </td>\n",
              "        </tr>\n",
              "        <tr>\n",
              "            <td>Pinocchio                      </td> <td>Adventure</td> <td>G          </td> <td>8.43e+07   </td> <td>2.18823e+09             </td> <td>1940</td> <td>1940  </td>\n",
              "        </tr>\n",
              "        <tr>\n",
              "            <td>Fantasia                       </td> <td>Musical  </td> <td>G          </td> <td>8.332e+07  </td> <td>2.18709e+09             </td> <td>1940</td> <td>1940  </td>\n",
              "        </tr>\n",
              "        <tr>\n",
              "            <td>Song of the South              </td> <td>Adventure</td> <td>G          </td> <td>6.5e+07    </td> <td>1.07851e+09             </td> <td>1946</td> <td>1940  </td>\n",
              "        </tr>\n",
              "        <tr>\n",
              "            <td>Cinderella                     </td> <td>Drama    </td> <td>G          </td> <td>8.5e+07    </td> <td>9.20609e+08             </td> <td>1950</td> <td>1950  </td>\n",
              "        </tr>\n",
              "    </tbody>\n",
              "</table>\n",
              "<p>... (574 rows omitted)</p>"
            ]
          },
          "metadata": {}
        }
      ],
      "source": [
        "# Run this cell to load the movies dataset\n",
        "movies = Table.read_table(\"data/movies.csv\")\n",
        "movies = movies.with_columns(\"decade\", movies[\"year\"]//10*10)\n",
        "movies.show(5)"
      ]
    },
    {
      "cell_type": "markdown",
      "metadata": {
        "id": "vyqfYsj2WhLl"
      },
      "source": [
        "**Question 4.1** Plot the number of movies in each decade.\n",
        "\n",
        "First, create a table that contains the number of movies in each decade:\n",
        "\n",
        "<img src=\"https://wsu-courses.s3.amazonaws.com/fall2022/cais105/assignment6/examples/q4a-table.png\">\n",
        "\n",
        "Your graph should look similar to this: \n",
        "\n",
        "<img src=\"https://wsu-courses.s3.amazonaws.com/fall2022/cais105/assignment6/examples/q4a.png\">"
      ]
    },
    {
      "cell_type": "code",
      "execution_count": 42,
      "metadata": {
        "tags": [],
        "colab": {
          "base_uri": "https://localhost:8080/",
          "height": 332
        },
        "id": "CJPOOxTUWhLm",
        "outputId": "d1dc5b77-2512-4fad-fe6b-2b1504d84979"
      },
      "outputs": [
        {
          "output_type": "execute_result",
          "data": {
            "text/plain": [
              "decade | count\n",
              "1930   | 1\n",
              "1940   | 3\n",
              "1950   | 4\n",
              "1960   | 7\n",
              "1970   | 9\n",
              "1980   | 61\n",
              "1990   | 236\n",
              "2000   | 172\n",
              "2010   | 86"
            ],
            "text/html": [
              "<table border=\"1\" class=\"dataframe\">\n",
              "    <thead>\n",
              "        <tr>\n",
              "            <th>decade</th> <th>count</th>\n",
              "        </tr>\n",
              "    </thead>\n",
              "    <tbody>\n",
              "        <tr>\n",
              "            <td>1930  </td> <td>1    </td>\n",
              "        </tr>\n",
              "        <tr>\n",
              "            <td>1940  </td> <td>3    </td>\n",
              "        </tr>\n",
              "        <tr>\n",
              "            <td>1950  </td> <td>4    </td>\n",
              "        </tr>\n",
              "        <tr>\n",
              "            <td>1960  </td> <td>7    </td>\n",
              "        </tr>\n",
              "        <tr>\n",
              "            <td>1970  </td> <td>9    </td>\n",
              "        </tr>\n",
              "        <tr>\n",
              "            <td>1980  </td> <td>61   </td>\n",
              "        </tr>\n",
              "        <tr>\n",
              "            <td>1990  </td> <td>236  </td>\n",
              "        </tr>\n",
              "        <tr>\n",
              "            <td>2000  </td> <td>172  </td>\n",
              "        </tr>\n",
              "        <tr>\n",
              "            <td>2010  </td> <td>86   </td>\n",
              "        </tr>\n",
              "    </tbody>\n",
              "</table>"
            ]
          },
          "metadata": {},
          "execution_count": 42
        }
      ],
      "source": [
        "# create a table that contains the number of movies in each decade\n",
        "num_movies_decade = movies.group(\"decade\")\n",
        "num_movies_decade"
      ]
    },
    {
      "cell_type": "code",
      "execution_count": 43,
      "metadata": {
        "tags": [],
        "colab": {
          "base_uri": "https://localhost:8080/",
          "height": 390
        },
        "id": "ytd3y-BHWhLm",
        "outputId": "0e617021-10d1-4bba-f76a-727e1961f5b7"
      },
      "outputs": [
        {
          "output_type": "display_data",
          "data": {
            "text/plain": [
              "<Figure size 432x432 with 1 Axes>"
            ],
            "image/png": "[encoded data removed]"
          },
          "metadata": {
            "needs_background": "light"
          }
        }
      ],
      "source": [
        "# Write the code to plot the number of movies in each decade\n",
        "num_movies_decade.plot(\"decade\")"
      ]
    },
    {
      "cell_type": "code",
      "execution_count": 44,
      "metadata": {
        "deletable": false,
        "editable": false,
        "colab": {
          "base_uri": "https://localhost:8080/",
          "height": 46
        },
        "id": "RxFaA98ZWhLm",
        "outputId": "26c87cb3-aae9-44e6-e07f-a8172507547b"
      },
      "outputs": [
        {
          "output_type": "execute_result",
          "data": {
            "text/plain": [
              "q4a results: All test cases passed!"
            ],
            "text/html": [
              "<p><strong><pre style='display: inline;'>q4a</pre></strong> passed! ✨</p>"
            ]
          },
          "metadata": {},
          "execution_count": 44
        }
      ],
      "source": [
        "grader.check(\"q4a\")"
      ]
    },
    {
      "cell_type": "markdown",
      "metadata": {
        "id": "rQ8dpHxcWhLm"
      },
      "source": [
        "**Question 4.2** Plot the inflation adjusted gross revenue in each decade. \n",
        "\n",
        "First, create a table that contains the sum of inflation adjusted gross and total gross total for each decade:\n",
        "\n",
        "<img src=\"https://wsu-courses.s3.amazonaws.com/fall2022/cais105/assignment6/examples/q4b-table.png\">\n",
        "\n",
        "Your graph should look similar to this: \n",
        "\n",
        "<img src=\"https://wsu-courses.s3.amazonaws.com/fall2022/cais105/assignment6/examples/q4b.png\">"
      ]
    },
    {
      "cell_type": "code",
      "execution_count": 47,
      "metadata": {
        "tags": [],
        "colab": {
          "base_uri": "https://localhost:8080/",
          "height": 332
        },
        "id": "Cky-kJUuWhLm",
        "outputId": "e83ccc7f-b041-4d48-e214-3d28b051f92d"
      },
      "outputs": [
        {
          "output_type": "execute_result",
          "data": {
            "text/plain": [
              "decade | inflation_adjusted_gross sum | total_gross sum\n",
              "1930   | 5.22895e+09                  | 1.84925e+08\n",
              "1940   | 5.45383e+09                  | 2.3262e+08\n",
              "1950   | 2.70643e+09                  | 2.16265e+08\n",
              "1960   | 2.98948e+09                  | 3.83396e+08\n",
              "1970   | 1.06295e+09                  | 2.6263e+08\n",
              "1980   | 4.63655e+09                  | 2.11454e+09\n",
              "1990   | 1.77433e+10                  | 9.40855e+09\n",
              "2000   | 1.57915e+10                  | 1.18797e+10\n",
              "2010   | 1.31505e+10                  | 1.27797e+10"
            ],
            "text/html": [
              "<table border=\"1\" class=\"dataframe\">\n",
              "    <thead>\n",
              "        <tr>\n",
              "            <th>decade</th> <th>inflation_adjusted_gross sum</th> <th>total_gross sum</th>\n",
              "        </tr>\n",
              "    </thead>\n",
              "    <tbody>\n",
              "        <tr>\n",
              "            <td>1930  </td> <td>5.22895e+09                 </td> <td>1.84925e+08    </td>\n",
              "        </tr>\n",
              "        <tr>\n",
              "            <td>1940  </td> <td>5.45383e+09                 </td> <td>2.3262e+08     </td>\n",
              "        </tr>\n",
              "        <tr>\n",
              "            <td>1950  </td> <td>2.70643e+09                 </td> <td>2.16265e+08    </td>\n",
              "        </tr>\n",
              "        <tr>\n",
              "            <td>1960  </td> <td>2.98948e+09                 </td> <td>3.83396e+08    </td>\n",
              "        </tr>\n",
              "        <tr>\n",
              "            <td>1970  </td> <td>1.06295e+09                 </td> <td>2.6263e+08     </td>\n",
              "        </tr>\n",
              "        <tr>\n",
              "            <td>1980  </td> <td>4.63655e+09                 </td> <td>2.11454e+09    </td>\n",
              "        </tr>\n",
              "        <tr>\n",
              "            <td>1990  </td> <td>1.77433e+10                 </td> <td>9.40855e+09    </td>\n",
              "        </tr>\n",
              "        <tr>\n",
              "            <td>2000  </td> <td>1.57915e+10                 </td> <td>1.18797e+10    </td>\n",
              "        </tr>\n",
              "        <tr>\n",
              "            <td>2010  </td> <td>1.31505e+10                 </td> <td>1.27797e+10    </td>\n",
              "        </tr>\n",
              "    </tbody>\n",
              "</table>"
            ]
          },
          "metadata": {},
          "execution_count": 47
        }
      ],
      "source": [
        "# create a table that contains the sum of inflation adjusted gross and total gross total for each decade\n",
        "gross_revenue_decade = movies.select(\"decade\", \"inflation_adjusted_gross\", \"total_gross\").group(\"decade\", np.sum)\n",
        "gross_revenue_decade"
      ]
    },
    {
      "cell_type": "code",
      "execution_count": 48,
      "metadata": {
        "tags": [],
        "colab": {
          "base_uri": "https://localhost:8080/",
          "height": 399
        },
        "id": "GcreW66gWhLm",
        "outputId": "80d727e5-3e80-4e58-9401-11634d0134f6"
      },
      "outputs": [
        {
          "output_type": "display_data",
          "data": {
            "text/plain": [
              "<Figure size 432x432 with 1 Axes>"
            ],
            "image/png": "[encoded data removed]"
          },
          "metadata": {
            "needs_background": "light"
          }
        }
      ],
      "source": [
        "# Write the code to plot the inflation adjusted gross revenue in each decade. \n",
        "gross_revenue_decade.plot(\"decade\")"
      ]
    },
    {
      "cell_type": "code",
      "execution_count": 49,
      "metadata": {
        "deletable": false,
        "editable": false,
        "colab": {
          "base_uri": "https://localhost:8080/",
          "height": 46
        },
        "id": "_n1XrhHsWhLm",
        "outputId": "00372ffb-6540-458a-e6bd-a405369564ed"
      },
      "outputs": [
        {
          "output_type": "execute_result",
          "data": {
            "text/plain": [
              "q4b results: All test cases passed!"
            ],
            "text/html": [
              "<p><strong><pre style='display: inline;'>q4b</pre></strong> passed! 🌈</p>"
            ]
          },
          "metadata": {},
          "execution_count": 49
        }
      ],
      "source": [
        "grader.check(\"q4b\")"
      ]
    },
    {
      "cell_type": "markdown",
      "metadata": {
        "id": "SmiAb_tjWhLn"
      },
      "source": [
        "**Question 4.3** Plot the (inflation adjusted) maximum grossing movie in each decade.\n",
        "\n",
        "First, create a table that contains the maximum inflation adjusted and total gross total for each decade:\n",
        "\n",
        "<img src=\"https://wsu-courses.s3.amazonaws.com/fall2022/cais105/assignment6/examples/q4c-table.png\">\n",
        "\n",
        "\n",
        "Your graph should look similar to this: \n",
        "\n",
        "<img src=\"https://wsu-courses.s3.amazonaws.com/fall2022/cais105/assignment6/examples/q4c.png\">\n"
      ]
    },
    {
      "cell_type": "code",
      "execution_count": 51,
      "metadata": {
        "tags": [],
        "colab": {
          "base_uri": "https://localhost:8080/",
          "height": 332
        },
        "id": "BZ2IUik3WhLn",
        "outputId": "8d5ead93-4bc6-468b-85dc-84a8cb59f3a8"
      },
      "outputs": [
        {
          "output_type": "execute_result",
          "data": {
            "text/plain": [
              "decade | inflation_adjusted_gross amax | total_gross amax\n",
              "1930   | 5.22895e+09                   | 1.84925e+08\n",
              "1940   | 2.18823e+09                   | 8.43e+07\n",
              "1950   | 1.23604e+09                   | 9.36e+07\n",
              "1960   | 1.36287e+09                   | 1.53e+08\n",
              "1970   | 2.55161e+08                   | 5.56753e+07\n",
              "1980   | 3.53335e+08                   | 1.67781e+08\n",
              "1990   | 7.61641e+08                   | 4.2278e+08\n",
              "2000   | 5.44817e+08                   | 4.23316e+08\n",
              "2010   | 9.36662e+08                   | 9.36662e+08"
            ],
            "text/html": [
              "<table border=\"1\" class=\"dataframe\">\n",
              "    <thead>\n",
              "        <tr>\n",
              "            <th>decade</th> <th>inflation_adjusted_gross amax</th> <th>total_gross amax</th>\n",
              "        </tr>\n",
              "    </thead>\n",
              "    <tbody>\n",
              "        <tr>\n",
              "            <td>1930  </td> <td>5.22895e+09                  </td> <td>1.84925e+08     </td>\n",
              "        </tr>\n",
              "        <tr>\n",
              "            <td>1940  </td> <td>2.18823e+09                  </td> <td>8.43e+07        </td>\n",
              "        </tr>\n",
              "        <tr>\n",
              "            <td>1950  </td> <td>1.23604e+09                  </td> <td>9.36e+07        </td>\n",
              "        </tr>\n",
              "        <tr>\n",
              "            <td>1960  </td> <td>1.36287e+09                  </td> <td>1.53e+08        </td>\n",
              "        </tr>\n",
              "        <tr>\n",
              "            <td>1970  </td> <td>2.55161e+08                  </td> <td>5.56753e+07     </td>\n",
              "        </tr>\n",
              "        <tr>\n",
              "            <td>1980  </td> <td>3.53335e+08                  </td> <td>1.67781e+08     </td>\n",
              "        </tr>\n",
              "        <tr>\n",
              "            <td>1990  </td> <td>7.61641e+08                  </td> <td>4.2278e+08      </td>\n",
              "        </tr>\n",
              "        <tr>\n",
              "            <td>2000  </td> <td>5.44817e+08                  </td> <td>4.23316e+08     </td>\n",
              "        </tr>\n",
              "        <tr>\n",
              "            <td>2010  </td> <td>9.36662e+08                  </td> <td>9.36662e+08     </td>\n",
              "        </tr>\n",
              "    </tbody>\n",
              "</table>"
            ]
          },
          "metadata": {},
          "execution_count": 51
        }
      ],
      "source": [
        "# Create a table that contain the maximum inflation adjusted and total gross total for each decade:\n",
        "max_grossing_decade = movies.select(\"decade\", \"inflation_adjusted_gross\", \"total_gross\").group(\"decade\", np.max)\n",
        "max_grossing_decade"
      ]
    },
    {
      "cell_type": "code",
      "execution_count": 52,
      "metadata": {
        "tags": [],
        "colab": {
          "base_uri": "https://localhost:8080/",
          "height": 399
        },
        "id": "e_aleKczWhLn",
        "outputId": "859e54ea-ad75-43dd-9610-c10b0b0aab32"
      },
      "outputs": [
        {
          "output_type": "display_data",
          "data": {
            "text/plain": [
              "<Figure size 432x432 with 1 Axes>"
            ],
            "image/png": "[encoded data removed]"
          },
          "metadata": {
            "needs_background": "light"
          }
        }
      ],
      "source": [
        "# Write the code to plot the (inflation adjusted) maximum grossing movie in each decade.\n",
        "max_grossing_decade.plot(\"decade\")"
      ]
    },
    {
      "cell_type": "code",
      "execution_count": 53,
      "metadata": {
        "deletable": false,
        "editable": false,
        "colab": {
          "base_uri": "https://localhost:8080/",
          "height": 46
        },
        "id": "eHH6K5BYWhLn",
        "outputId": "4b71d284-914e-438a-df33-6b7c35bc2284"
      },
      "outputs": [
        {
          "output_type": "execute_result",
          "data": {
            "text/plain": [
              "q4c results: All test cases passed!"
            ],
            "text/html": [
              "<p><strong><pre style='display: inline;'>q4c</pre></strong> passed! 💯</p>"
            ]
          },
          "metadata": {},
          "execution_count": 53
        }
      ],
      "source": [
        "grader.check(\"q4c\")"
      ]
    },
    {
      "cell_type": "markdown",
      "metadata": {
        "id": "qcrHa2GqWhLn"
      },
      "source": [
        "**Question 4.4** After adjustment for inflation, what was the highest grossing movie in the dataset?"
      ]
    },
    {
      "cell_type": "code",
      "execution_count": 54,
      "metadata": {
        "tags": [],
        "id": "LJyFAFIzWhLn"
      },
      "outputs": [],
      "source": [
        "# Write the highest grossing movie in the dataset after adjusting for inflation\n",
        "q4_4 = \"Snow White and the Seven Dwarfs\""
      ]
    },
    {
      "cell_type": "code",
      "execution_count": 55,
      "metadata": {
        "deletable": false,
        "editable": false,
        "colab": {
          "base_uri": "https://localhost:8080/",
          "height": 70
        },
        "id": "RirmUSGOWhLn",
        "outputId": "e99e700a-9c9b-4d8f-a742-407f2a07644a"
      },
      "outputs": [
        {
          "output_type": "execute_result",
          "data": {
            "text/plain": [
              "q4d results: All test cases passed!\n",
              "q4d - 1 message: Good job!"
            ],
            "text/html": [
              "<p><strong><pre style='display: inline;'>q4d</pre></strong> passed! 🙌</p><p><strong><pre style='display: inline;'>q4d - 1</pre> message:</strong> Good job!</p>"
            ]
          },
          "metadata": {},
          "execution_count": 55
        }
      ],
      "source": [
        "grader.check(\"q4d\")"
      ]
    },
    {
      "cell_type": "markdown",
      "metadata": {
        "id": "H10nF0yQWhLo"
      },
      "source": [
        "## Submission\n",
        "\n",
        "Here are the steps to submit your assignment:\n",
        "- Make sure that you have run all the cells in the notebook (click _Run All_ button).\n",
        "- Save the notebook (click _File_ -> _Save_).\n",
        "- Save the assignment into the GitHub repository, by clicking on the _Source Control_ icon ![](https://wsu-courses.s3.amazonaws.com/fall2022/cais105/source-control-icon.png) and do the steps below:\n",
        "    1. Enter a comment in the commit message field\n",
        "    2. Click the _Commit_ button (click \"Yes\" if asked if you want to stage the files and commit all changes)\n",
        "    3. Click _Sync Changes_ button\n",
        "     \n",
        "    ![](https://wsu-courses.s3.amazonaws.com/fall2022/cais105/step1-step2.png) \n",
        "\n",
        "\n",
        "    ![](https://wsu-courses.s3.amazonaws.com/fall2022/cais105/step3.png)\n",
        "\n",
        "- After the changes are in GitHub, submit the link to the repository in PLATO through the assignment submission page. You can find the list of all of your repositories in this class [here](https://github.com/cais105-fall2022). Make sure that you verify that the files are correctly pushed into GitHub before you submit this link in PLATO (you can view the notebook content in read-only mode in GitHub). "
      ]
    },
    {
      "cell_type": "markdown",
      "metadata": {
        "deletable": false,
        "editable": false,
        "id": "q186ozBRWhLo"
      },
      "source": [
        "---\n",
        "\n",
        "To double-check your work, the cell below will rerun all of the autograder tests."
      ]
    },
    {
      "cell_type": "code",
      "execution_count": null,
      "metadata": {
        "deletable": false,
        "editable": false,
        "id": "Fpa7nu8dWhLo"
      },
      "outputs": [],
      "source": [
        "grader.check_all()"
      ]
    }
  ],
  "metadata": {
    "kernelspec": {
      "display_name": "Python 3.10.8 64-bit",
      "language": "python",
      "name": "python3"
    },
    "language_info": {
      "codemirror_mode": {
        "name": "ipython",
        "version": 3
      },
      "file_extension": ".py",
      "mimetype": "text/x-python",
      "name": "python",
      "nbconvert_exporter": "python",
      "pygments_lexer": "ipython3",
      "version": "3.10.8"
    },
    "vscode": {
      "interpreter": {
        "hash": "949777d72b0d2535278d3dc13498b2535136f6dfe0678499012e853ee9abcab1"
      }
    },
    "colab": {
      "provenance": []
    },
    "widgets": {
      "application/vnd.jupyter.widget-state+json": {
        "b72a88de857d400b9f929d01b4e06f85": {
          "model_module": "@jupyter-widgets/controls",
          "model_name": "VBoxModel",
          "model_module_version": "1.5.0",
          "state": {
            "_dom_classes": [
              "widget-interact"
            ],
            "_model_module": "@jupyter-widgets/controls",
            "_model_module_version": "1.5.0",
            "_model_name": "VBoxModel",
            "_view_count": null,
            "_view_module": "@jupyter-widgets/controls",
            "_view_module_version": "1.5.0",
            "_view_name": "VBoxView",
            "box_style": "",
            "children": [
              "IPY_MODEL_748141eaa5e14d51a23a11ea14639c56",
              "IPY_MODEL_13887857edd84ba48e662fa7aa9acbf2"
            ],
            "layout": "IPY_MODEL_c913d5fbc8ea4637a7f5bb65c0c4b9bb"
          }
        },
        "748141eaa5e14d51a23a11ea14639c56": {
          "model_module": "@jupyter-widgets/controls",
          "model_name": "IntSliderModel",
          "model_module_version": "1.5.0",
          "state": {
            "_dom_classes": [],
            "_model_module": "@jupyter-widgets/controls",
            "_model_module_version": "1.5.0",
            "_model_name": "IntSliderModel",
            "_view_count": null,
            "_view_module": "@jupyter-widgets/controls",
            "_view_module_version": "1.5.0",
            "_view_name": "IntSliderView",
            "continuous_update": false,
            "description": "bin_width",
            "description_tooltip": null,
            "disabled": false,
            "layout": "IPY_MODEL_88c78f9028894d2a922fe2fb25f51e14",
            "max": 2000,
            "min": 25,
            "orientation": "horizontal",
            "readout": true,
            "readout_format": "d",
            "step": 25,
            "style": "IPY_MODEL_b9cd3fbddb49426ba61b204ff956fba3",
            "value": 25
          }
        },
        "13887857edd84ba48e662fa7aa9acbf2": {
          "model_module": "@jupyter-widgets/output",
          "model_name": "OutputModel",
          "model_module_version": "1.0.0",
          "state": {
            "_dom_classes": [],
            "_model_module": "@jupyter-widgets/output",
            "_model_module_version": "1.0.0",
            "_model_name": "OutputModel",
            "_view_count": null,
            "_view_module": "@jupyter-widgets/output",
            "_view_module_version": "1.0.0",
            "_view_name": "OutputView",
            "layout": "IPY_MODEL_f89eb09b275d4341a091ed6805a53905",
            "msg_id": "",
            "outputs": [
              {
                "output_type": "display_data",
                "data": {
                  "text/plain": "<Figure size 432x288 with 1 Axes>",
                  "image/png": "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\n"
                },
                "metadata": {
                  "needs_background": "light"
                }
              }
            ]
          }
        },
        "c913d5fbc8ea4637a7f5bb65c0c4b9bb": {
          "model_module": "@jupyter-widgets/base",
          "model_name": "LayoutModel",
          "model_module_version": "1.2.0",
          "state": {
            "_model_module": "@jupyter-widgets/base",
            "_model_module_version": "1.2.0",
            "_model_name": "LayoutModel",
            "_view_count": null,
            "_view_module": "@jupyter-widgets/base",
            "_view_module_version": "1.2.0",
            "_view_name": "LayoutView",
            "align_content": null,
            "align_items": null,
            "align_self": null,
            "border": null,
            "bottom": null,
            "display": null,
            "flex": null,
            "flex_flow": null,
            "grid_area": null,
            "grid_auto_columns": null,
            "grid_auto_flow": null,
            "grid_auto_rows": null,
            "grid_column": null,
            "grid_gap": null,
            "grid_row": null,
            "grid_template_areas": null,
            "grid_template_columns": null,
            "grid_template_rows": null,
            "height": null,
            "justify_content": null,
            "justify_items": null,
            "left": null,
            "margin": null,
            "max_height": null,
            "max_width": null,
            "min_height": null,
            "min_width": null,
            "object_fit": null,
            "object_position": null,
            "order": null,
            "overflow": null,
            "overflow_x": null,
            "overflow_y": null,
            "padding": null,
            "right": null,
            "top": null,
            "visibility": null,
            "width": null
          }
        },
        "88c78f9028894d2a922fe2fb25f51e14": {
          "model_module": "@jupyter-widgets/base",
          "model_name": "LayoutModel",
          "model_module_version": "1.2.0",
          "state": {
            "_model_module": "@jupyter-widgets/base",
            "_model_module_version": "1.2.0",
            "_model_name": "LayoutModel",
            "_view_count": null,
            "_view_module": "@jupyter-widgets/base",
            "_view_module_version": "1.2.0",
            "_view_name": "LayoutView",
            "align_content": null,
            "align_items": null,
            "align_self": null,
            "border": null,
            "bottom": null,
            "display": null,
            "flex": null,
            "flex_flow": null,
            "grid_area": null,
            "grid_auto_columns": null,
            "grid_auto_flow": null,
            "grid_auto_rows": null,
            "grid_column": null,
            "grid_gap": null,
            "grid_row": null,
            "grid_template_areas": null,
            "grid_template_columns": null,
            "grid_template_rows": null,
            "height": null,
            "justify_content": null,
            "justify_items": null,
            "left": null,
            "margin": null,
            "max_height": null,
            "max_width": null,
            "min_height": null,
            "min_width": null,
            "object_fit": null,
            "object_position": null,
            "order": null,
            "overflow": null,
            "overflow_x": null,
            "overflow_y": null,
            "padding": null,
            "right": null,
            "top": null,
            "visibility": null,
            "width": null
          }
        },
        "b9cd3fbddb49426ba61b204ff956fba3": {
          "model_module": "@jupyter-widgets/controls",
          "model_name": "SliderStyleModel",
          "model_module_version": "1.5.0",
          "state": {
            "_model_module": "@jupyter-widgets/controls",
            "_model_module_version": "1.5.0",
            "_model_name": "SliderStyleModel",
            "_view_count": null,
            "_view_module": "@jupyter-widgets/base",
            "_view_module_version": "1.2.0",
            "_view_name": "StyleView",
            "description_width": "",
            "handle_color": null
          }
        },
        "f89eb09b275d4341a091ed6805a53905": {
          "model_module": "@jupyter-widgets/base",
          "model_name": "LayoutModel",
          "model_module_version": "1.2.0",
          "state": {
            "_model_module": "@jupyter-widgets/base",
            "_model_module_version": "1.2.0",
            "_model_name": "LayoutModel",
            "_view_count": null,
            "_view_module": "@jupyter-widgets/base",
            "_view_module_version": "1.2.0",
            "_view_name": "LayoutView",
            "align_content": null,
            "align_items": null,
            "align_self": null,
            "border": null,
            "bottom": null,
            "display": null,
            "flex": null,
            "flex_flow": null,
            "grid_area": null,
            "grid_auto_columns": null,
            "grid_auto_flow": null,
            "grid_auto_rows": null,
            "grid_column": null,
            "grid_gap": null,
            "grid_row": null,
            "grid_template_areas": null,
            "grid_template_columns": null,
            "grid_template_rows": null,
            "height": null,
            "justify_content": null,
            "justify_items": null,
            "left": null,
            "margin": null,
            "max_height": null,
            "max_width": null,
            "min_height": null,
            "min_width": null,
            "object_fit": null,
            "object_position": null,
            "order": null,
            "overflow": null,
            "overflow_x": null,
            "overflow_y": null,
            "padding": null,
            "right": null,
            "top": null,
            "visibility": null,
            "width": null
          }
        }
      }
    }
  },
  "nbformat": 4,
  "nbformat_minor": 0
}